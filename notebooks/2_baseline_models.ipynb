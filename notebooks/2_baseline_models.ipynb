{
 "cells": [
  {
   "cell_type": "code",
   "execution_count": 1,
   "metadata": {},
   "outputs": [],
   "source": [
    "# Import libraries\n",
    "import os\n",
    "import sys\n",
    "\n",
    "import pandas as pd\n",
    "import numpy as np\n",
    "import scipy\n",
    "\n",
    "import matplotlib.pyplot as plt\n",
    "import seaborn as sns\n",
    "\n",
    "from itertools import combinations\n",
    "\n",
    "from sklearn.model_selection import RandomizedSearchCV\n",
    "from sklearn.model_selection import train_test_split\n",
    "from sklearn.metrics import roc_auc_score\n",
    "from sklearn.linear_model import LogisticRegression\n",
    "from sklearn.tree import DecisionTreeClassifier\n",
    "from sklearn.ensemble import RandomForestClassifier"
   ]
  },
  {
   "cell_type": "code",
   "execution_count": 2,
   "metadata": {},
   "outputs": [],
   "source": [
    "# Set up paths\n",
    "project_root = os.path.abspath(os.path.join(os.getcwd(), os.pardir))\n",
    "src_folder = os.path.join(project_root, 'src')"
   ]
  },
  {
   "cell_type": "code",
   "execution_count": 3,
   "metadata": {},
   "outputs": [],
   "source": [
    "# Import src functions\n",
    "sys.path.insert(0, src_folder)\n",
    "from modeling import *\n",
    "from stats_and_visualisations import *\n",
    "from s3_storage import *"
   ]
  },
  {
   "cell_type": "code",
   "execution_count": 4,
   "metadata": {},
   "outputs": [],
   "source": [
    "### ---- PARAMETERS\n",
    "iterations_per_model = 3"
   ]
  },
  {
   "cell_type": "code",
   "execution_count": 5,
   "metadata": {},
   "outputs": [
    {
     "name": "stdout",
     "output_type": "stream",
     "text": [
      "--> Importing done\n"
     ]
    }
   ],
   "source": [
    "# Import data\n",
    "X_train = from_s3(bucket='mimic-jamesi', filepath='data/acute_kidney_failure_X_train.npy')\n",
    "X_test = from_s3(bucket='mimic-jamesi', filepath='data/acute_kidney_failure_X_test.npy')\n",
    "y_train = from_s3(bucket='mimic-jamesi', filepath='data/acute_kidney_failure_y_train.npy')\n",
    "y_test = from_s3(bucket='mimic-jamesi', filepath='data/acute_kidney_failure_y_test.npy')\n",
    "print('--> Importing done')"
   ]
  },
  {
   "cell_type": "markdown",
   "metadata": {},
   "source": [
    "## Logistic regression"
   ]
  },
  {
   "cell_type": "code",
   "execution_count": 6,
   "metadata": {},
   "outputs": [],
   "source": [
    "# Create temporary training and validation sets\n",
    "X_train_tmp, X_val_tmp, y_train_tmp, y_val_tmp = train_test_split(X_train, y_train, test_size=0.2, random_state=42)"
   ]
  },
  {
   "cell_type": "code",
   "execution_count": 7,
   "metadata": {},
   "outputs": [],
   "source": [
    "# Define training function\n",
    "def train_logistic(X_train, X_test, y_train, y_test):\n",
    "\n",
    "    clf = LogisticRegression(random_state=0,\n",
    "                             solver='lbfgs',\n",
    "                             class_weight='balanced').fit(X_train, y_train)\n",
    "\n",
    "    train_predict = clf.predict_proba(X_train)\n",
    "    test_predict = clf.predict_proba(X_test)\n",
    "\n",
    "    train_score = roc_auc_score(y_train, train_predict[:,1])\n",
    "    test_score = roc_auc_score(y_test, test_predict[:,1])\n",
    "\n",
    "    print('Logistic Train', train_score)\n",
    "    print('Logistic Test', test_score)\n",
    "    \n",
    "    return train_score, test_score, clf"
   ]
  },
  {
   "cell_type": "code",
   "execution_count": 8,
   "metadata": {},
   "outputs": [
    {
     "name": "stdout",
     "output_type": "stream",
     "text": [
      "Logistic Train 0.8475897768941401\n",
      "Logistic Test 0.8307833607155896\n"
     ]
    }
   ],
   "source": [
    "train_score, test_score, logistic_model = train_logistic(X_train_tmp, X_val_tmp, y_train_tmp, y_val_tmp)"
   ]
  },
  {
   "cell_type": "code",
   "execution_count": 9,
   "metadata": {},
   "outputs": [],
   "source": [
    "# Save model as Pickle\n",
    "to_s3(obj=logistic_model, bucket='mimic-jamesi', filepath='models/logistic_regression')"
   ]
  },
  {
   "cell_type": "markdown",
   "metadata": {},
   "source": [
    "## Define functions"
   ]
  },
  {
   "cell_type": "code",
   "execution_count": 10,
   "metadata": {},
   "outputs": [],
   "source": [
    "def run_random_search(model, random_grid, scoring, cv, n_iter, X_train, y_train):\n",
    "    \n",
    "    random_search_model = RandomizedSearchCV(estimator = model, scoring=scoring,\n",
    "                                   param_distributions = random_grid,\n",
    "                                   n_iter = n_iter, cv = cv, verbose=0,\n",
    "                                   random_state=8, n_jobs = -1,\n",
    "                                   return_train_score=True)\n",
    "\n",
    "    # Fit the random search model\n",
    "    random_search_model.fit(X_train, y_train)\n",
    "\n",
    "    # Print the best CV score\n",
    "    print('--> Best CV Score: ', random_search_model.best_score_)\n",
    "    \n",
    "    # Produce the final outputs\n",
    "    cv_df = pd.DataFrame(random_search_model.cv_results_)\n",
    "    cv_df.drop(columns=['mean_fit_time', 'mean_score_time', 'rank_test_score',\n",
    "                        'split0_test_score', 'split0_train_score', 'split1_test_score',\n",
    "                        'split1_train_score', 'split2_test_score', 'split2_train_score',\n",
    "                        'split3_test_score', 'split3_train_score', 'split4_test_score',\n",
    "                        'split4_train_score', 'std_fit_time', 'std_score_time',\n",
    "                        'std_test_score', 'std_train_score'], inplace=True)\n",
    "    cols = [c.replace('param_', '') for c in cv_df.columns]\n",
    "    cv_df.columns = cols\n",
    "    cv_df.rename(columns={'mean_train_score': 'training_score', 'mean_test_score': 'valid_score'}, inplace=True)\n",
    "    cv_df.sort_values(by='valid_score', ascending=False, inplace=True)\n",
    "    \n",
    "    best_params = random_search_model.best_params_\n",
    "    \n",
    "    # Visualise best CV score by run\n",
    "    best_cv_by_run(cv_df, 'valid_score')\n",
    "    \n",
    "    # Visualise the scores by single hyperparameters\n",
    "    plot_single_results(cv_df, 'training_score', 'valid_score', 'params')\n",
    "    \n",
    "    return cv_df, best_params"
   ]
  },
  {
   "cell_type": "markdown",
   "metadata": {},
   "source": [
    "## Decision tree"
   ]
  },
  {
   "cell_type": "code",
   "execution_count": 11,
   "metadata": {},
   "outputs": [],
   "source": [
    "# define the grid search parameters\n",
    "criterion = ['gini', 'entropy']\n",
    "max_features = list(np.arange(2, X_train.shape[1]))\n",
    "max_depth = list(np.arange(1, 100))\n",
    "max_depth.append(None)\n",
    "min_samples_split = list(np.arange(2, 250))\n",
    "min_samples_leaf = list(np.arange(1, 250))\n",
    "\n",
    "# Create the random grid\n",
    "dt_random_grid = {'criterion': criterion,\n",
    "                   'max_features': max_features,\n",
    "                   'max_depth': max_depth,\n",
    "                   'min_samples_split': min_samples_split,\n",
    "                   'min_samples_leaf': min_samples_leaf}"
   ]
  },
  {
   "cell_type": "code",
   "execution_count": 12,
   "metadata": {},
   "outputs": [
    {
     "name": "stdout",
     "output_type": "stream",
     "text": [
      "--> Best CV Score:  0.8456808366151576\n",
      "[1, 2, 3]\n",
      "[0.80576391 0.84011615 0.84568084]\n"
     ]
    },
    {
     "data": {
      "image/png": "[encoded data removed]",
      "text/plain": [
       "<Figure size 504x360 with 1 Axes>"
      ]
     },
     "metadata": {},
     "output_type": "display_data"
    },
    {
     "data": {
      "image/png": "[encoded data removed]",
      "text/plain": [
       "<Figure size 504x360 with 1 Axes>"
      ]
     },
     "metadata": {},
     "output_type": "display_data"
    },
    {
     "data": {
      "image/png": "[encoded data removed]",
      "text/plain": [
       "<Figure size 504x360 with 1 Axes>"
      ]
     },
     "metadata": {},
     "output_type": "display_data"
    },
    {
     "data": {
      "image/png": "[encoded data removed]",
      "text/plain": [
       "<Figure size 504x360 with 1 Axes>"
      ]
     },
     "metadata": {},
     "output_type": "display_data"
    },
    {
     "data": {
      "image/png": "[encoded data removed]",
      "text/plain": [
       "<Figure size 504x360 with 1 Axes>"
      ]
     },
     "metadata": {},
     "output_type": "display_data"
    },
    {
     "data": {
      "image/png": "[encoded data removed]",
      "text/plain": [
       "<Figure size 504x360 with 1 Axes>"
      ]
     },
     "metadata": {},
     "output_type": "display_data"
    },
    {
     "data": {
      "text/html": [
       "<div>\n",
       "<style scoped>\n",
       "    .dataframe tbody tr th:only-of-type {\n",
       "        vertical-align: middle;\n",
       "    }\n",
       "\n",
       "    .dataframe tbody tr th {\n",
       "        vertical-align: top;\n",
       "    }\n",
       "\n",
       "    .dataframe thead th {\n",
       "        text-align: right;\n",
       "    }\n",
       "</style>\n",
       "<table border=\"1\" class=\"dataframe\">\n",
       "  <thead>\n",
       "    <tr style=\"text-align: right;\">\n",
       "      <th></th>\n",
       "      <th>valid_score</th>\n",
       "      <th>training_score</th>\n",
       "      <th>criterion</th>\n",
       "      <th>max_depth</th>\n",
       "      <th>max_features</th>\n",
       "      <th>min_samples_leaf</th>\n",
       "      <th>min_samples_split</th>\n",
       "      <th>params</th>\n",
       "    </tr>\n",
       "  </thead>\n",
       "  <tbody>\n",
       "    <tr>\n",
       "      <th>1</th>\n",
       "      <td>0.840116</td>\n",
       "      <td>0.907965</td>\n",
       "      <td>gini</td>\n",
       "      <td>18</td>\n",
       "      <td>27</td>\n",
       "      <td>8</td>\n",
       "      <td>118</td>\n",
       "      <td>{'min_samples_split': 118, 'min_samples_leaf':...</td>\n",
       "    </tr>\n",
       "    <tr>\n",
       "      <th>2</th>\n",
       "      <td>0.845681</td>\n",
       "      <td>0.885076</td>\n",
       "      <td>entropy</td>\n",
       "      <td>89</td>\n",
       "      <td>20</td>\n",
       "      <td>51</td>\n",
       "      <td>167</td>\n",
       "      <td>{'min_samples_split': 167, 'min_samples_leaf':...</td>\n",
       "    </tr>\n",
       "    <tr>\n",
       "      <th>0</th>\n",
       "      <td>0.805764</td>\n",
       "      <td>0.820881</td>\n",
       "      <td>entropy</td>\n",
       "      <td>96</td>\n",
       "      <td>6</td>\n",
       "      <td>186</td>\n",
       "      <td>205</td>\n",
       "      <td>{'min_samples_split': 205, 'min_samples_leaf':...</td>\n",
       "    </tr>\n",
       "  </tbody>\n",
       "</table>\n",
       "</div>"
      ],
      "text/plain": [
       "   valid_score  training_score criterion max_depth max_features  \\\n",
       "1     0.840116        0.907965      gini        18           27   \n",
       "2     0.845681        0.885076   entropy        89           20   \n",
       "0     0.805764        0.820881   entropy        96            6   \n",
       "\n",
       "  min_samples_leaf min_samples_split  \\\n",
       "1                8               118   \n",
       "2               51               167   \n",
       "0              186               205   \n",
       "\n",
       "                                              params  \n",
       "1  {'min_samples_split': 118, 'min_samples_leaf':...  \n",
       "2  {'min_samples_split': 167, 'min_samples_leaf':...  \n",
       "0  {'min_samples_split': 205, 'min_samples_leaf':...  "
      ]
     },
     "execution_count": 12,
     "metadata": {},
     "output_type": "execute_result"
    }
   ],
   "source": [
    "# Run the random search model\n",
    "dt_random_search_results, dt_best_params = run_random_search(model=DecisionTreeClassifier(),\n",
    "                                                             random_grid=dt_random_grid,\n",
    "                                                             scoring='roc_auc', cv=5,\n",
    "                                                             n_iter=iterations_per_model, \n",
    "                                                             X_train=X_train, y_train=y_train)\n",
    "dt_random_search_results"
   ]
  },
  {
   "cell_type": "code",
   "execution_count": null,
   "metadata": {},
   "outputs": [],
   "source": [
    "# Re-run on best parameters and save model\n",
    "final_run(X_train, y_train,\n",
    "          best_params=dt_best_params,\n",
    "          classifier=DecisionTreeClassifier,\n",
    "          model_name='decision_tree')"
   ]
  },
  {
   "cell_type": "markdown",
   "metadata": {},
   "source": [
    "## Random Forest"
   ]
  },
  {
   "cell_type": "code",
   "execution_count": null,
   "metadata": {},
   "outputs": [],
   "source": [
    "# define the grid search parameters\n",
    "n_estimators = list(np.arange(20, 3000, 5))\n",
    "max_features = list(np.arange(2, X_train.shape[1]))\n",
    "max_depth = list(np.arange(1, 100))\n",
    "max_depth.append(None)\n",
    "min_samples_split = list(np.arange(2, 250))\n",
    "min_samples_leaf = list(np.arange(1, 250))\n",
    "bootstrap = [True, False]\n",
    "\n",
    "# Create the random grid\n",
    "rf_random_grid = {'n_estimators': n_estimators,\n",
    "                   'max_features': max_features,\n",
    "                   'max_depth': max_depth,\n",
    "                   'min_samples_split': min_samples_split,\n",
    "                   'min_samples_leaf': min_samples_leaf,\n",
    "                   'bootstrap': bootstrap}"
   ]
  },
  {
   "cell_type": "code",
   "execution_count": null,
   "metadata": {},
   "outputs": [],
   "source": [
    "# Run the random search model\n",
    "rf_random_search_results, rf_best_params = run_random_search(model=RandomForestClassifier(),\n",
    "                                                            random_grid=rf_random_grid,\n",
    "                                                            scoring='roc_auc', cv=5,\n",
    "                                                            n_iter=iterations_per_model, \n",
    "                                                            X_train=X_train, y_train=y_train)\n",
    "rf_random_search_results"
   ]
  },
  {
   "cell_type": "code",
   "execution_count": null,
   "metadata": {},
   "outputs": [],
   "source": [
    "# Re-run on best parameters and save model\n",
    "final_run(X_train, y_train,\n",
    "          best_params=rf_best_params,\n",
    "          classifier=RandomForestClassifier,\n",
    "          model_name='random_forest')"
   ]
  }
 ],
 "metadata": {
  "kernelspec": {
   "display_name": "Environment (conda_tensorflow_p36)",
   "language": "python",
   "name": "conda_tensorflow_p36"
  },
  "language_info": {
   "codemirror_mode": {
    "name": "ipython",
    "version": 3
   },
   "file_extension": ".py",
   "mimetype": "text/x-python",
   "name": "python",
   "nbconvert_exporter": "python",
   "pygments_lexer": "ipython3",
   "version": "3.6.5"
  }
 },
 "nbformat": 4,
 "nbformat_minor": 2
}
