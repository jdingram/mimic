{
 "cells": [
  {
   "cell_type": "code",
   "execution_count": 1,
   "metadata": {},
   "outputs": [],
   "source": [
    "# Import libraries\n",
    "import os\n",
    "import sys\n",
    "\n",
    "import pandas as pd\n",
    "import numpy as np\n",
    "import scipy\n",
    "\n",
    "import matplotlib.pyplot as plt\n",
    "import seaborn as sns\n",
    "\n",
    "from itertools import combinations\n",
    "\n",
    "from sklearn.model_selection import RandomizedSearchCV\n",
    "from sklearn.model_selection import train_test_split\n",
    "from sklearn.metrics import roc_auc_score\n",
    "from sklearn.linear_model import LogisticRegression\n",
    "from sklearn.tree import DecisionTreeClassifier\n",
    "from sklearn.ensemble import RandomForestClassifier\n",
    "\n",
    "#### MUST DELETE\n",
    "import warnings\n",
    "warnings.filterwarnings('ignore')\n",
    "pd.options.mode.chained_assignment = None  # default='warn'"
   ]
  },
  {
   "cell_type": "code",
   "execution_count": 2,
   "metadata": {},
   "outputs": [],
   "source": [
    "# Set up paths & import src functions\n",
    "project_root = os.path.abspath(os.path.join(os.getcwd(), os.pardir))\n",
    "src_folder = os.path.join(project_root, 'src')\n",
    "sys.path.insert(0, src_folder)\n",
    "from modeling import *\n",
    "from stats_and_visualisations import *\n",
    "from s3_storage import *"
   ]
  },
  {
   "cell_type": "code",
   "execution_count": 3,
   "metadata": {},
   "outputs": [],
   "source": [
    "# Import data\n",
    "X_train = from_s3(bucket='mimic-jamesi',\n",
    "                  filepath='data/acute_kidney_failure_X_train.npy')\n",
    "y_train = from_s3(bucket='mimic-jamesi',\n",
    "                  filepath='data/acute_kidney_failure_y_train.npy')"
   ]
  },
  {
   "cell_type": "markdown",
   "metadata": {},
   "source": [
    "## Logistic regression"
   ]
  },
  {
   "cell_type": "code",
   "execution_count": 4,
   "metadata": {},
   "outputs": [],
   "source": [
    "# Create temporary training and cross validation sets\n",
    "X_train_tmp, X_val_tmp, y_train_tmp, y_val_tmp = train_test_split(\n",
    "    X_train, y_train, test_size=0.2, random_state=42)"
   ]
  },
  {
   "cell_type": "code",
   "execution_count": 5,
   "metadata": {},
   "outputs": [],
   "source": [
    "def train_logistic(X_train, X_val, y_train, y_val):\n",
    "    \n",
    "    '''\n",
    "    Trains a basic logistic regression classifier\n",
    "    \n",
    "    Outputs:\n",
    "        1. Training AUC score\n",
    "        2. Cross validation AUC score\n",
    "        3. The trained model\n",
    "    '''\n",
    "\n",
    "    clf = LogisticRegression(random_state=0,\n",
    "                             solver='lbfgs',\n",
    "                             class_weight='balanced').fit(X_train, y_train)\n",
    "\n",
    "    train_predict = clf.predict_proba(X_train)\n",
    "    val_predict = clf.predict_proba(X_val)\n",
    "\n",
    "    train_score = roc_auc_score(y_train, train_predict[:,1])\n",
    "    val_score = roc_auc_score(y_val, val_predict[:,1])\n",
    "\n",
    "    print('Logistic Train', train_score)\n",
    "    print('Logistic Cross Validation', val_score)\n",
    "    \n",
    "    return train_score, val_score, clf"
   ]
  },
  {
   "cell_type": "code",
   "execution_count": 6,
   "metadata": {},
   "outputs": [
    {
     "name": "stdout",
     "output_type": "stream",
     "text": [
      "Logistic Train 0.8420054205820949\n",
      "Logistic Cross Validation 0.8393246662887874\n"
     ]
    }
   ],
   "source": [
    "# Train the Logistic Regression model, and save the model to S3\n",
    "train_score, val_score, logistic_model = train_logistic(\n",
    "    X_train_tmp, X_val_tmp, y_train_tmp, y_val_tmp)\n",
    "\n",
    "to_s3(obj=logistic_model, bucket='mimic-jamesi',\n",
    "      filepath='models/logistic_regression')"
   ]
  },
  {
   "cell_type": "markdown",
   "metadata": {},
   "source": [
    "## Define functions"
   ]
  },
  {
   "cell_type": "code",
   "execution_count": 7,
   "metadata": {},
   "outputs": [],
   "source": [
    "def run_random_search(model, random_grid, scoring, cv, n_iter, X_train, y_train):\n",
    "    \n",
    "    '''\n",
    "    This function used Scikit-Learn's RandomizedSearchCV to find the hyperparameters\n",
    "    that provide the best classification accuracy on the cross validation data through\n",
    "    random search.\n",
    "    \n",
    "    Parameters:\n",
    "        1. model - the model for which the random search will be run for\n",
    "        2. random_grid - dictionary containing the hyperparameters and associated ranges\n",
    "           from which the randomly selected hyperparameter values will be chosen.\n",
    "           E.g, for {'max_depth': [1,2,3]}, the 'max_depth' hyperparamater will be randomly\n",
    "           chosen from the values [1,2,3]\n",
    "        3. scoring - method by which the cross validation accuracy will be assessed. Must\n",
    "           be supported by RandomizedSearchCV, e.g, 'roc_auc'\n",
    "        4. cv - the number of K folds in the training data that will be run to find cross\n",
    "           validation accuracy\n",
    "        5. n_iter - the number of random iterations of hyperparameters that will be run\n",
    "           on the model\n",
    "        6. X_train - training feature set (np.array)\n",
    "        7. y_train - training target variable (np.array)\n",
    "    \n",
    "    Outputs:\n",
    "        1. cv_df - DataFrame showing the results of all iterations of the random search.\n",
    "           Includes all hyperparameter values and the associated training and cross validation\n",
    "           accuracy\n",
    "        2. best_params - the set of hyperparameters that resulted in the highest cross\n",
    "           validation accuracy\n",
    "    \n",
    "    The function also outputs visualisations of:\n",
    "        1. The cumulative best cross validation score by run number. This is to ensure that\n",
    "           the best score has flattened by the final run, indicating that the best\n",
    "           hyperparameters have been found and there is no benefit in running further iterations\n",
    "        2. The cross validation scores plotted against hyperparameter values. This is to show how\n",
    "           changing each single hyperparameter affected cross validation accuracy\n",
    "    \n",
    "    '''\n",
    "    \n",
    "    # -- Define and fit the random search model\n",
    "    random_search_model = RandomizedSearchCV(estimator = model, scoring=scoring,\n",
    "                                   param_distributions = random_grid,\n",
    "                                   n_iter = n_iter, cv = cv, verbose=0,\n",
    "                                   random_state=8, n_jobs = -1,\n",
    "                                   return_train_score=True)\n",
    "    random_search_model.fit(X_train, y_train)\n",
    "    print('Best CV Score: ', random_search_model.best_score_)\n",
    "    \n",
    "    # -- Produce the final outputs\n",
    "    cv_df = pd.DataFrame(random_search_model.cv_results_)\n",
    "    cv_df.drop(columns=['mean_fit_time', 'mean_score_time', 'rank_test_score',\n",
    "                        'split0_test_score', 'split0_train_score', 'split1_test_score',\n",
    "                        'split1_train_score', 'split2_test_score', 'split2_train_score',\n",
    "                        'split3_test_score', 'split3_train_score', 'split4_test_score',\n",
    "                        'split4_train_score', 'std_fit_time', 'std_score_time',\n",
    "                        'std_test_score', 'std_train_score'], inplace=True)\n",
    "    cols = [c.replace('param_', '') for c in cv_df.columns]\n",
    "    cv_df.columns = cols\n",
    "    cv_df.rename(columns={'mean_train_score': 'training_score',\n",
    "                          'mean_test_score': 'valid_score'}, inplace=True)\n",
    "    cv_df.sort_values(by='valid_score', ascending=False, inplace=True)\n",
    "    \n",
    "    best_params = random_search_model.best_params_\n",
    "    \n",
    "    # Visualise best CV score by run\n",
    "    best_cv_by_run(cv_df, 'valid_score')\n",
    "    \n",
    "    # Visualise the scores by single hyperparameters\n",
    "    plot_single_results(cv_df, 'training_score', 'valid_score', 'params')\n",
    "    \n",
    "    return cv_df, best_params"
   ]
  },
  {
   "cell_type": "markdown",
   "metadata": {},
   "source": [
    "## Decision tree"
   ]
  },
  {
   "cell_type": "code",
   "execution_count": 8,
   "metadata": {},
   "outputs": [],
   "source": [
    "# Define the grid search parameters\n",
    "dt_random_grid = {'criterion': ['gini', 'entropy'],\n",
    "                   'max_features': list(np.arange(2, X_train.shape[1])),\n",
    "                   'max_depth': list(np.arange(1, 100)),\n",
    "                   'min_samples_split': list(np.arange(2, 250)),\n",
    "                   'min_samples_leaf': list(np.arange(1, 250))}"
   ]
  },
  {
   "cell_type": "code",
   "execution_count": 9,
   "metadata": {},
   "outputs": [
    {
     "name": "stdout",
     "output_type": "stream",
     "text": [
      "Best CV Score:  0.8539738877839465\n"
     ]
    },
    {
     "data": {
      "image/png": "[encoded data removed]",
      "text/plain": [
       "<Figure size 504x360 with 1 Axes>"
      ]
     },
     "metadata": {},
     "output_type": "display_data"
    },
    {
     "data": {
      "text/plain": [
       "<Figure size 432x288 with 0 Axes>"
      ]
     },
     "metadata": {},
     "output_type": "display_data"
    },
    {
     "data": {
      "image/png": "[encoded data removed]",
      "text/plain": [
       "<Figure size 504x360 with 1 Axes>"
      ]
     },
     "metadata": {},
     "output_type": "display_data"
    },
    {
     "data": {
      "text/plain": [
       "<Figure size 432x288 with 0 Axes>"
      ]
     },
     "metadata": {},
     "output_type": "display_data"
    },
    {
     "data": {
      "image/png": "[encoded data removed]",
      "text/plain": [
       "<Figure size 504x360 with 1 Axes>"
      ]
     },
     "metadata": {},
     "output_type": "display_data"
    },
    {
     "data": {
      "text/plain": [
       "<Figure size 432x288 with 0 Axes>"
      ]
     },
     "metadata": {},
     "output_type": "display_data"
    },
    {
     "data": {
      "image/png": "[encoded data removed]",
      "text/plain": [
       "<Figure size 504x360 with 1 Axes>"
      ]
     },
     "metadata": {},
     "output_type": "display_data"
    },
    {
     "data": {
      "text/plain": [
       "<Figure size 432x288 with 0 Axes>"
      ]
     },
     "metadata": {},
     "output_type": "display_data"
    },
    {
     "data": {
      "image/png": "[encoded data removed]",
      "text/plain": [
       "<Figure size 504x360 with 1 Axes>"
      ]
     },
     "metadata": {},
     "output_type": "display_data"
    },
    {
     "data": {
      "text/plain": [
       "<Figure size 432x288 with 0 Axes>"
      ]
     },
     "metadata": {},
     "output_type": "display_data"
    },
    {
     "data": {
      "image/png": "[encoded data removed]",
      "text/plain": [
       "<Figure size 504x360 with 1 Axes>"
      ]
     },
     "metadata": {},
     "output_type": "display_data"
    },
    {
     "data": {
      "text/html": [
       "<div>\n",
       "<style scoped>\n",
       "    .dataframe tbody tr th:only-of-type {\n",
       "        vertical-align: middle;\n",
       "    }\n",
       "\n",
       "    .dataframe tbody tr th {\n",
       "        vertical-align: top;\n",
       "    }\n",
       "\n",
       "    .dataframe thead th {\n",
       "        text-align: right;\n",
       "    }\n",
       "</style>\n",
       "<table border=\"1\" class=\"dataframe\">\n",
       "  <thead>\n",
       "    <tr style=\"text-align: right;\">\n",
       "      <th></th>\n",
       "      <th>min_samples_split</th>\n",
       "      <th>min_samples_leaf</th>\n",
       "      <th>max_features</th>\n",
       "      <th>max_depth</th>\n",
       "      <th>criterion</th>\n",
       "      <th>params</th>\n",
       "      <th>valid_score</th>\n",
       "      <th>training_score</th>\n",
       "    </tr>\n",
       "  </thead>\n",
       "  <tbody>\n",
       "    <tr>\n",
       "      <th>32</th>\n",
       "      <td>246</td>\n",
       "      <td>161</td>\n",
       "      <td>29</td>\n",
       "      <td>32</td>\n",
       "      <td>entropy</td>\n",
       "      <td>{'min_samples_split': 246, 'min_samples_leaf':...</td>\n",
       "      <td>0.853974</td>\n",
       "      <td>0.870175</td>\n",
       "    </tr>\n",
       "    <tr>\n",
       "      <th>11</th>\n",
       "      <td>25</td>\n",
       "      <td>145</td>\n",
       "      <td>27</td>\n",
       "      <td>69</td>\n",
       "      <td>gini</td>\n",
       "      <td>{'min_samples_split': 25, 'min_samples_leaf': ...</td>\n",
       "      <td>0.853460</td>\n",
       "      <td>0.868904</td>\n",
       "    </tr>\n",
       "    <tr>\n",
       "      <th>27</th>\n",
       "      <td>5</td>\n",
       "      <td>99</td>\n",
       "      <td>45</td>\n",
       "      <td>49</td>\n",
       "      <td>gini</td>\n",
       "      <td>{'min_samples_split': 5, 'min_samples_leaf': 9...</td>\n",
       "      <td>0.853232</td>\n",
       "      <td>0.882284</td>\n",
       "    </tr>\n",
       "    <tr>\n",
       "      <th>39</th>\n",
       "      <td>173</td>\n",
       "      <td>180</td>\n",
       "      <td>41</td>\n",
       "      <td>81</td>\n",
       "      <td>entropy</td>\n",
       "      <td>{'min_samples_split': 173, 'min_samples_leaf':...</td>\n",
       "      <td>0.852711</td>\n",
       "      <td>0.870242</td>\n",
       "    </tr>\n",
       "    <tr>\n",
       "      <th>9</th>\n",
       "      <td>5</td>\n",
       "      <td>123</td>\n",
       "      <td>45</td>\n",
       "      <td>94</td>\n",
       "      <td>entropy</td>\n",
       "      <td>{'min_samples_split': 5, 'min_samples_leaf': 1...</td>\n",
       "      <td>0.852684</td>\n",
       "      <td>0.877517</td>\n",
       "    </tr>\n",
       "    <tr>\n",
       "      <th>29</th>\n",
       "      <td>238</td>\n",
       "      <td>133</td>\n",
       "      <td>41</td>\n",
       "      <td>52</td>\n",
       "      <td>entropy</td>\n",
       "      <td>{'min_samples_split': 238, 'min_samples_leaf':...</td>\n",
       "      <td>0.851817</td>\n",
       "      <td>0.875604</td>\n",
       "    </tr>\n",
       "    <tr>\n",
       "      <th>15</th>\n",
       "      <td>207</td>\n",
       "      <td>39</td>\n",
       "      <td>30</td>\n",
       "      <td>34</td>\n",
       "      <td>gini</td>\n",
       "      <td>{'min_samples_split': 207, 'min_samples_leaf':...</td>\n",
       "      <td>0.851746</td>\n",
       "      <td>0.886929</td>\n",
       "    </tr>\n",
       "    <tr>\n",
       "      <th>37</th>\n",
       "      <td>192</td>\n",
       "      <td>69</td>\n",
       "      <td>33</td>\n",
       "      <td>51</td>\n",
       "      <td>gini</td>\n",
       "      <td>{'min_samples_split': 192, 'min_samples_leaf':...</td>\n",
       "      <td>0.850285</td>\n",
       "      <td>0.883161</td>\n",
       "    </tr>\n",
       "    <tr>\n",
       "      <th>46</th>\n",
       "      <td>168</td>\n",
       "      <td>57</td>\n",
       "      <td>28</td>\n",
       "      <td>51</td>\n",
       "      <td>gini</td>\n",
       "      <td>{'min_samples_split': 168, 'min_samples_leaf':...</td>\n",
       "      <td>0.850077</td>\n",
       "      <td>0.887441</td>\n",
       "    </tr>\n",
       "    <tr>\n",
       "      <th>31</th>\n",
       "      <td>166</td>\n",
       "      <td>92</td>\n",
       "      <td>20</td>\n",
       "      <td>46</td>\n",
       "      <td>gini</td>\n",
       "      <td>{'min_samples_split': 166, 'min_samples_leaf':...</td>\n",
       "      <td>0.849916</td>\n",
       "      <td>0.877230</td>\n",
       "    </tr>\n",
       "    <tr>\n",
       "      <th>17</th>\n",
       "      <td>157</td>\n",
       "      <td>185</td>\n",
       "      <td>35</td>\n",
       "      <td>62</td>\n",
       "      <td>gini</td>\n",
       "      <td>{'min_samples_split': 157, 'min_samples_leaf':...</td>\n",
       "      <td>0.849842</td>\n",
       "      <td>0.868751</td>\n",
       "    </tr>\n",
       "    <tr>\n",
       "      <th>44</th>\n",
       "      <td>52</td>\n",
       "      <td>167</td>\n",
       "      <td>38</td>\n",
       "      <td>65</td>\n",
       "      <td>entropy</td>\n",
       "      <td>{'min_samples_split': 52, 'min_samples_leaf': ...</td>\n",
       "      <td>0.849676</td>\n",
       "      <td>0.869929</td>\n",
       "    </tr>\n",
       "    <tr>\n",
       "      <th>33</th>\n",
       "      <td>177</td>\n",
       "      <td>91</td>\n",
       "      <td>34</td>\n",
       "      <td>62</td>\n",
       "      <td>entropy</td>\n",
       "      <td>{'min_samples_split': 177, 'min_samples_leaf':...</td>\n",
       "      <td>0.849524</td>\n",
       "      <td>0.881168</td>\n",
       "    </tr>\n",
       "    <tr>\n",
       "      <th>28</th>\n",
       "      <td>121</td>\n",
       "      <td>209</td>\n",
       "      <td>25</td>\n",
       "      <td>22</td>\n",
       "      <td>gini</td>\n",
       "      <td>{'min_samples_split': 121, 'min_samples_leaf':...</td>\n",
       "      <td>0.849197</td>\n",
       "      <td>0.862035</td>\n",
       "    </tr>\n",
       "    <tr>\n",
       "      <th>19</th>\n",
       "      <td>209</td>\n",
       "      <td>160</td>\n",
       "      <td>20</td>\n",
       "      <td>34</td>\n",
       "      <td>entropy</td>\n",
       "      <td>{'min_samples_split': 209, 'min_samples_leaf':...</td>\n",
       "      <td>0.848829</td>\n",
       "      <td>0.865134</td>\n",
       "    </tr>\n",
       "    <tr>\n",
       "      <th>36</th>\n",
       "      <td>249</td>\n",
       "      <td>215</td>\n",
       "      <td>18</td>\n",
       "      <td>23</td>\n",
       "      <td>gini</td>\n",
       "      <td>{'min_samples_split': 249, 'min_samples_leaf':...</td>\n",
       "      <td>0.848416</td>\n",
       "      <td>0.858423</td>\n",
       "    </tr>\n",
       "    <tr>\n",
       "      <th>34</th>\n",
       "      <td>25</td>\n",
       "      <td>218</td>\n",
       "      <td>30</td>\n",
       "      <td>39</td>\n",
       "      <td>gini</td>\n",
       "      <td>{'min_samples_split': 25, 'min_samples_leaf': ...</td>\n",
       "      <td>0.848046</td>\n",
       "      <td>0.862241</td>\n",
       "    </tr>\n",
       "    <tr>\n",
       "      <th>23</th>\n",
       "      <td>196</td>\n",
       "      <td>22</td>\n",
       "      <td>29</td>\n",
       "      <td>67</td>\n",
       "      <td>gini</td>\n",
       "      <td>{'min_samples_split': 196, 'min_samples_leaf':...</td>\n",
       "      <td>0.847944</td>\n",
       "      <td>0.888126</td>\n",
       "    </tr>\n",
       "    <tr>\n",
       "      <th>7</th>\n",
       "      <td>126</td>\n",
       "      <td>52</td>\n",
       "      <td>19</td>\n",
       "      <td>26</td>\n",
       "      <td>gini</td>\n",
       "      <td>{'min_samples_split': 126, 'min_samples_leaf':...</td>\n",
       "      <td>0.847880</td>\n",
       "      <td>0.887330</td>\n",
       "    </tr>\n",
       "    <tr>\n",
       "      <th>16</th>\n",
       "      <td>235</td>\n",
       "      <td>191</td>\n",
       "      <td>24</td>\n",
       "      <td>64</td>\n",
       "      <td>entropy</td>\n",
       "      <td>{'min_samples_split': 235, 'min_samples_leaf':...</td>\n",
       "      <td>0.847740</td>\n",
       "      <td>0.864980</td>\n",
       "    </tr>\n",
       "    <tr>\n",
       "      <th>43</th>\n",
       "      <td>71</td>\n",
       "      <td>132</td>\n",
       "      <td>27</td>\n",
       "      <td>10</td>\n",
       "      <td>entropy</td>\n",
       "      <td>{'min_samples_split': 71, 'min_samples_leaf': ...</td>\n",
       "      <td>0.847314</td>\n",
       "      <td>0.869992</td>\n",
       "    </tr>\n",
       "    <tr>\n",
       "      <th>13</th>\n",
       "      <td>160</td>\n",
       "      <td>7</td>\n",
       "      <td>42</td>\n",
       "      <td>9</td>\n",
       "      <td>entropy</td>\n",
       "      <td>{'min_samples_split': 160, 'min_samples_leaf':...</td>\n",
       "      <td>0.846918</td>\n",
       "      <td>0.894427</td>\n",
       "    </tr>\n",
       "    <tr>\n",
       "      <th>3</th>\n",
       "      <td>162</td>\n",
       "      <td>18</td>\n",
       "      <td>36</td>\n",
       "      <td>49</td>\n",
       "      <td>gini</td>\n",
       "      <td>{'min_samples_split': 162, 'min_samples_leaf':...</td>\n",
       "      <td>0.846674</td>\n",
       "      <td>0.896106</td>\n",
       "    </tr>\n",
       "    <tr>\n",
       "      <th>10</th>\n",
       "      <td>123</td>\n",
       "      <td>37</td>\n",
       "      <td>24</td>\n",
       "      <td>88</td>\n",
       "      <td>gini</td>\n",
       "      <td>{'min_samples_split': 123, 'min_samples_leaf':...</td>\n",
       "      <td>0.845698</td>\n",
       "      <td>0.894180</td>\n",
       "    </tr>\n",
       "    <tr>\n",
       "      <th>40</th>\n",
       "      <td>90</td>\n",
       "      <td>44</td>\n",
       "      <td>39</td>\n",
       "      <td>32</td>\n",
       "      <td>gini</td>\n",
       "      <td>{'min_samples_split': 90, 'min_samples_leaf': ...</td>\n",
       "      <td>0.845511</td>\n",
       "      <td>0.899448</td>\n",
       "    </tr>\n",
       "  </tbody>\n",
       "</table>\n",
       "</div>"
      ],
      "text/plain": [
       "   min_samples_split min_samples_leaf max_features max_depth criterion  \\\n",
       "32               246              161           29        32   entropy   \n",
       "11                25              145           27        69      gini   \n",
       "27                 5               99           45        49      gini   \n",
       "39               173              180           41        81   entropy   \n",
       "9                  5              123           45        94   entropy   \n",
       "29               238              133           41        52   entropy   \n",
       "15               207               39           30        34      gini   \n",
       "37               192               69           33        51      gini   \n",
       "46               168               57           28        51      gini   \n",
       "31               166               92           20        46      gini   \n",
       "17               157              185           35        62      gini   \n",
       "44                52              167           38        65   entropy   \n",
       "33               177               91           34        62   entropy   \n",
       "28               121              209           25        22      gini   \n",
       "19               209              160           20        34   entropy   \n",
       "36               249              215           18        23      gini   \n",
       "34                25              218           30        39      gini   \n",
       "23               196               22           29        67      gini   \n",
       "7                126               52           19        26      gini   \n",
       "16               235              191           24        64   entropy   \n",
       "43                71              132           27        10   entropy   \n",
       "13               160                7           42         9   entropy   \n",
       "3                162               18           36        49      gini   \n",
       "10               123               37           24        88      gini   \n",
       "40                90               44           39        32      gini   \n",
       "\n",
       "                                               params  valid_score  \\\n",
       "32  {'min_samples_split': 246, 'min_samples_leaf':...     0.853974   \n",
       "11  {'min_samples_split': 25, 'min_samples_leaf': ...     0.853460   \n",
       "27  {'min_samples_split': 5, 'min_samples_leaf': 9...     0.853232   \n",
       "39  {'min_samples_split': 173, 'min_samples_leaf':...     0.852711   \n",
       "9   {'min_samples_split': 5, 'min_samples_leaf': 1...     0.852684   \n",
       "29  {'min_samples_split': 238, 'min_samples_leaf':...     0.851817   \n",
       "15  {'min_samples_split': 207, 'min_samples_leaf':...     0.851746   \n",
       "37  {'min_samples_split': 192, 'min_samples_leaf':...     0.850285   \n",
       "46  {'min_samples_split': 168, 'min_samples_leaf':...     0.850077   \n",
       "31  {'min_samples_split': 166, 'min_samples_leaf':...     0.849916   \n",
       "17  {'min_samples_split': 157, 'min_samples_leaf':...     0.849842   \n",
       "44  {'min_samples_split': 52, 'min_samples_leaf': ...     0.849676   \n",
       "33  {'min_samples_split': 177, 'min_samples_leaf':...     0.849524   \n",
       "28  {'min_samples_split': 121, 'min_samples_leaf':...     0.849197   \n",
       "19  {'min_samples_split': 209, 'min_samples_leaf':...     0.848829   \n",
       "36  {'min_samples_split': 249, 'min_samples_leaf':...     0.848416   \n",
       "34  {'min_samples_split': 25, 'min_samples_leaf': ...     0.848046   \n",
       "23  {'min_samples_split': 196, 'min_samples_leaf':...     0.847944   \n",
       "7   {'min_samples_split': 126, 'min_samples_leaf':...     0.847880   \n",
       "16  {'min_samples_split': 235, 'min_samples_leaf':...     0.847740   \n",
       "43  {'min_samples_split': 71, 'min_samples_leaf': ...     0.847314   \n",
       "13  {'min_samples_split': 160, 'min_samples_leaf':...     0.846918   \n",
       "3   {'min_samples_split': 162, 'min_samples_leaf':...     0.846674   \n",
       "10  {'min_samples_split': 123, 'min_samples_leaf':...     0.845698   \n",
       "40  {'min_samples_split': 90, 'min_samples_leaf': ...     0.845511   \n",
       "\n",
       "    training_score  \n",
       "32        0.870175  \n",
       "11        0.868904  \n",
       "27        0.882284  \n",
       "39        0.870242  \n",
       "9         0.877517  \n",
       "29        0.875604  \n",
       "15        0.886929  \n",
       "37        0.883161  \n",
       "46        0.887441  \n",
       "31        0.877230  \n",
       "17        0.868751  \n",
       "44        0.869929  \n",
       "33        0.881168  \n",
       "28        0.862035  \n",
       "19        0.865134  \n",
       "36        0.858423  \n",
       "34        0.862241  \n",
       "23        0.888126  \n",
       "7         0.887330  \n",
       "16        0.864980  \n",
       "43        0.869992  \n",
       "13        0.894427  \n",
       "3         0.896106  \n",
       "10        0.894180  \n",
       "40        0.899448  "
      ]
     },
     "execution_count": 9,
     "metadata": {},
     "output_type": "execute_result"
    },
    {
     "data": {
      "text/plain": [
       "<Figure size 432x288 with 0 Axes>"
      ]
     },
     "metadata": {},
     "output_type": "display_data"
    }
   ],
   "source": [
    "# Run the random search model\n",
    "dt_random_search_results, dt_best_params = run_random_search(model=DecisionTreeClassifier(),\n",
    "                                                             random_grid=dt_random_grid,\n",
    "                                                             scoring='roc_auc', cv=5, n_iter=50, \n",
    "                                                             X_train=X_train, y_train=y_train)\n",
    "\n",
    "dt_random_search_results.sort_values(by='valid_score', ascending=False).head(25)"
   ]
  },
  {
   "cell_type": "code",
   "execution_count": 10,
   "metadata": {},
   "outputs": [],
   "source": [
    "# Re-run on best parameters and save model\n",
    "final_run(X_train, y_train,\n",
    "          best_params=dt_best_params,\n",
    "          classifier=DecisionTreeClassifier,\n",
    "          model_name='decision_tree')"
   ]
  },
  {
   "cell_type": "markdown",
   "metadata": {},
   "source": [
    "## Random Forest"
   ]
  },
  {
   "cell_type": "code",
   "execution_count": 11,
   "metadata": {},
   "outputs": [],
   "source": [
    "# Define the grid search parameters\n",
    "rf_random_grid = {'n_estimators': list(np.arange(20, 3000, 5)),\n",
    "                   'max_features': list(np.arange(2, X_train.shape[1])),\n",
    "                   'max_depth': list(np.arange(1, 100)),\n",
    "                   'min_samples_split': list(np.arange(2, 250)),\n",
    "                   'min_samples_leaf': list(np.arange(1, 250)),\n",
    "                   'bootstrap': [True, False]}"
   ]
  },
  {
   "cell_type": "code",
   "execution_count": null,
   "metadata": {},
   "outputs": [],
   "source": [
    "# Run the random search model\n",
    "rf_random_search_results, rf_best_params = run_random_search(model=RandomForestClassifier(),\n",
    "                                                            random_grid=rf_random_grid,\n",
    "                                                            scoring='roc_auc', cv=5, n_iter=50, \n",
    "                                                            X_train=X_train, y_train=y_train)\n",
    "\n",
    "rf_random_search_results.sort_values(by='valid_score', ascending=False).head(25)"
   ]
  },
  {
   "cell_type": "code",
   "execution_count": null,
   "metadata": {},
   "outputs": [],
   "source": [
    "# Re-run on best parameters and save model\n",
    "final_run(X_train, y_train,\n",
    "          best_params=rf_best_params,\n",
    "          classifier=RandomForestClassifier,\n",
    "          model_name='random_forest')"
   ]
  }
 ],
 "metadata": {
  "kernelspec": {
   "display_name": "Environment (conda_tensorflow_p36)",
   "language": "python",
   "name": "conda_tensorflow_p36"
  },
  "language_info": {
   "codemirror_mode": {
    "name": "ipython",
    "version": 3
   },
   "file_extension": ".py",
   "mimetype": "text/x-python",
   "name": "python",
   "nbconvert_exporter": "python",
   "pygments_lexer": "ipython3",
   "version": "3.6.5"
  }
 },
 "nbformat": 4,
 "nbformat_minor": 2
}
