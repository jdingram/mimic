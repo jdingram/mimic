{
 "cells": [
  {
   "cell_type": "markdown",
   "metadata": {},
   "source": [
    "# Model Testing\n",
    "After training 5 machine learning models (logistic regression, decision tree, random forest, LightGBM & a neural<br/>\n",
    "network), the purpose of this notebook is to test the performance of each using the previously unused test data.<br/>\n",
    "This will let us determine which model is the most accurate in detecting Acute Kidney Failure in unseen patients.<br/>\n",
    "The metric for scoring the models will remain AUC."
   ]
  },
  {
   "cell_type": "code",
   "execution_count": 1,
   "metadata": {},
   "outputs": [],
   "source": [
    "import os\n",
    "import sys\n",
    "import pandas as pd\n",
    "import numpy as np\n",
    "import matplotlib.pyplot as plt\n",
    "import seaborn as sns\n",
    "from itertools import combinations\n",
    "from sklearn.model_selection import train_test_split\n",
    "from sklearn.metrics import roc_auc_score"
   ]
  },
  {
   "cell_type": "code",
   "execution_count": 2,
   "metadata": {},
   "outputs": [],
   "source": [
    "# Set up paths & import src functions\n",
    "project_root = os.path.abspath(os.path.join(os.getcwd(), os.pardir))\n",
    "src_folder = os.path.join(project_root, 'src')\n",
    "sys.path.insert(0, src_folder)\n",
    "from modeling import *\n",
    "from s3_storage import *"
   ]
  },
  {
   "cell_type": "code",
   "execution_count": 3,
   "metadata": {},
   "outputs": [],
   "source": [
    "# Import data\n",
    "X_train = from_s3(bucket='mimic-jamesi',\n",
    "                  filepath='data/acute_kidney_failure_X_train.npy')\n",
    "X_test = from_s3(bucket='mimic-jamesi',\n",
    "                 filepath='data/acute_kidney_failure_X_test.npy')\n",
    "y_train = from_s3(bucket='mimic-jamesi',\n",
    "                  filepath='data/acute_kidney_failure_y_train.npy')\n",
    "y_test = from_s3(bucket='mimic-jamesi',\n",
    "                 filepath='data/acute_kidney_failure_y_test.npy')"
   ]
  },
  {
   "cell_type": "code",
   "execution_count": 4,
   "metadata": {},
   "outputs": [],
   "source": [
    "def run_final_test(model, X_test, y_test):\n",
    "    '''\n",
    "    Function that imports a trained model from AWS S3, and runs it on the\n",
    "    test data. The output is the AUC score on the test data.\n",
    "    '''\n",
    "    m = from_s3(bucket='mimic-jamesi', filepath='models/{}'.format(model))\n",
    "    predict = m.predict_proba(X_test)\n",
    "    score = roc_auc_score(y_test, predict[:,-1])\n",
    "    print(\"{} score: \".format(model), score)\n",
    "    return score"
   ]
  },
  {
   "cell_type": "code",
   "execution_count": 5,
   "metadata": {},
   "outputs": [
    {
     "name": "stdout",
     "output_type": "stream",
     "text": [
      "logistic_regression score:  0.8473821401576503\n",
      "decision_tree score:  0.8554605334197172\n",
      "random_forest score:  0.8801820537738905\n",
      "light_gbm score:  0.867031854011446\n"
     ]
    },
    {
     "name": "stderr",
     "output_type": "stream",
     "text": [
      "Using TensorFlow backend.\n"
     ]
    },
    {
     "name": "stdout",
     "output_type": "stream",
     "text": [
      "neural_network score:  0.8736095454054636\n"
     ]
    }
   ],
   "source": [
    "# Import the trained models and run on the test data\n",
    "logistic_score = run_final_test('logistic_regression', X_test, y_test)\n",
    "dt_score = run_final_test('decision_tree', X_test, y_test)\n",
    "rf_score = run_final_test('random_forest', X_test, y_test)\n",
    "lightgbm_score = run_final_test('light_gbm', X_test, y_test)\n",
    "nn_score = run_final_test('neural_network', X_test, y_test)"
   ]
  },
  {
   "cell_type": "code",
   "execution_count": 12,
   "metadata": {},
   "outputs": [
    {
     "data": {
      "image/png": "[encoded data removed]",
      "text/plain": [
       "<Figure size 504x360 with 1 Axes>"
      ]
     },
     "metadata": {},
     "output_type": "display_data"
    }
   ],
   "source": [
    "# Visualise the final AUC scores\n",
    "names = ['Logistic', 'Decision Tree', 'Random Forest',\n",
    "         'LightGBM', 'Neural Network']\n",
    "scores = [logistic_score, dt_score, rf_score, lightgbm_score, nn_score]\n",
    "\n",
    "plt.figure(figsize = (7, 5))\n",
    "sns.barplot(names, scores)\n",
    "plt.ylim(0.8)\n",
    "plt.xlabel('Model')\n",
    "plt.ylabel('Cross validation AUC')\n",
    "plt.show()"
   ]
  },
  {
   "cell_type": "markdown",
   "metadata": {},
   "source": [
    "## Conclusion"
   ]
  },
  {
   "cell_type": "code",
   "execution_count": null,
   "metadata": {},
   "outputs": [],
   "source": []
  }
 ],
 "metadata": {
  "kernelspec": {
   "display_name": "Environment (conda_tensorflow_p36)",
   "language": "python",
   "name": "conda_tensorflow_p36"
  },
  "language_info": {
   "codemirror_mode": {
    "name": "ipython",
    "version": 3
   },
   "file_extension": ".py",
   "mimetype": "text/x-python",
   "name": "python",
   "nbconvert_exporter": "python",
   "pygments_lexer": "ipython3",
   "version": "3.6.5"
  }
 },
 "nbformat": 4,
 "nbformat_minor": 2
}
