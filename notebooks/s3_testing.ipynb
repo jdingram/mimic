{
 "cells": [
  {
   "cell_type": "code",
   "execution_count": 1,
   "metadata": {},
   "outputs": [],
   "source": [
    "import os\n",
    "import sys\n",
    "import pandas as pd\n",
    "import numpy as np"
   ]
  },
  {
   "cell_type": "code",
   "execution_count": 2,
   "metadata": {},
   "outputs": [],
   "source": [
    "# Set up paths\n",
    "project_root = os.path.abspath(os.path.join(os.getcwd(), os.pardir))\n",
    "src_folder = os.path.join(project_root, 'src')"
   ]
  },
  {
   "cell_type": "code",
   "execution_count": 3,
   "metadata": {},
   "outputs": [],
   "source": [
    "sys.path.insert(0, src_folder)\n",
    "from s3_storage import *"
   ]
  },
  {
   "cell_type": "code",
   "execution_count": 4,
   "metadata": {},
   "outputs": [
    {
     "data": {
      "text/plain": [
       "48.112491636802034"
      ]
     },
     "execution_count": 4,
     "metadata": {},
     "output_type": "execute_result"
    }
   ],
   "source": [
    "test_array = np.random.rand(10,10)\n",
    "test_array.sum()"
   ]
  },
  {
   "cell_type": "code",
   "execution_count": 5,
   "metadata": {},
   "outputs": [
    {
     "data": {
      "text/plain": [
       "48.11249163680203"
      ]
     },
     "execution_count": 5,
     "metadata": {},
     "output_type": "execute_result"
    }
   ],
   "source": [
    "test_df = pd.DataFrame(test_array)\n",
    "test_df.sum().sum()"
   ]
  },
  {
   "cell_type": "code",
   "execution_count": 6,
   "metadata": {},
   "outputs": [],
   "source": [
    "to_s3(test_array, 'mimic-jamesi', 'test_array.npy')\n",
    "to_s3(test_df, 'mimic-jamesi', 'test_df.csv')"
   ]
  },
  {
   "cell_type": "code",
   "execution_count": 7,
   "metadata": {},
   "outputs": [
    {
     "data": {
      "text/plain": [
       "48.11249163680204"
      ]
     },
     "execution_count": 7,
     "metadata": {},
     "output_type": "execute_result"
    }
   ],
   "source": [
    "df_import = from_s3('mimic-jamesi', 'test_df.csv', index_col=0)\n",
    "df_import.sum().sum()"
   ]
  },
  {
   "cell_type": "code",
   "execution_count": 8,
   "metadata": {},
   "outputs": [
    {
     "data": {
      "text/plain": [
       "48.112491636802034"
      ]
     },
     "execution_count": 8,
     "metadata": {},
     "output_type": "execute_result"
    }
   ],
   "source": [
    "arr_import = from_s3('mimic-jamesi', 'test_array.npy')\n",
    "arr_import.sum()"
   ]
  },
  {
   "cell_type": "code",
   "execution_count": 9,
   "metadata": {},
   "outputs": [
    {
     "data": {
      "text/plain": [
       "array([[0.3219592 , 0.81825398, 0.97925037, 0.40262844, 0.45631944,\n",
       "        0.09975494, 0.19596621, 0.24283681, 0.4906572 , 0.87600632],\n",
       "       [0.86510423, 0.6622617 , 0.23168101, 0.06161626, 0.22883747,\n",
       "        0.05359079, 0.92506261, 0.69874444, 0.25075385, 0.83334514],\n",
       "       [0.85407424, 0.52182824, 0.89672183, 0.18421188, 0.46996315,\n",
       "        0.9045291 , 0.16971475, 0.07211346, 0.44438697, 0.27451684],\n",
       "       [0.82212808, 0.70294636, 0.3861268 , 0.85994864, 0.91013295,\n",
       "        0.03158663, 0.00699336, 0.14840257, 0.96664933, 0.73378217],\n",
       "       [0.61473062, 0.77006391, 0.10633858, 0.4921268 , 0.02048098,\n",
       "        0.46333857, 0.02413298, 0.65039939, 0.73798219, 0.72368464],\n",
       "       [0.30368079, 0.57142128, 0.38658489, 0.25119022, 0.39563942,\n",
       "        0.11912396, 0.9793234 , 0.55279762, 0.27079911, 0.61904485],\n",
       "       [0.11432746, 0.23426895, 0.37066001, 0.18909055, 0.58551469,\n",
       "        0.90166249, 0.35157953, 0.97804117, 0.24947662, 0.31372456],\n",
       "       [0.99660921, 0.55803607, 0.94986444, 0.4900395 , 0.04471422,\n",
       "        0.61562739, 0.84973339, 0.03858103, 0.8019312 , 0.42246724],\n",
       "       [0.27055164, 0.09521499, 0.85540181, 0.95611417, 0.41059018,\n",
       "        0.67720264, 0.79546712, 0.4223289 , 0.98468871, 0.85243126],\n",
       "       [0.1348061 , 0.09778675, 0.15082619, 0.00860345, 0.83397354,\n",
       "        0.04039731, 0.74861645, 0.17071033, 0.36309895, 0.07945951]])"
      ]
     },
     "execution_count": 9,
     "metadata": {},
     "output_type": "execute_result"
    }
   ],
   "source": [
    "arr_import"
   ]
  },
  {
   "cell_type": "code",
   "execution_count": 10,
   "metadata": {},
   "outputs": [
    {
     "data": {
      "text/plain": [
       "array([[0.3219592 , 0.81825398, 0.97925037, 0.40262844, 0.45631944,\n",
       "        0.09975494, 0.19596621, 0.24283681, 0.4906572 , 0.87600632],\n",
       "       [0.86510423, 0.6622617 , 0.23168101, 0.06161626, 0.22883747,\n",
       "        0.05359079, 0.92506261, 0.69874444, 0.25075385, 0.83334514],\n",
       "       [0.85407424, 0.52182824, 0.89672183, 0.18421188, 0.46996315,\n",
       "        0.9045291 , 0.16971475, 0.07211346, 0.44438697, 0.27451684],\n",
       "       [0.82212808, 0.70294636, 0.3861268 , 0.85994864, 0.91013295,\n",
       "        0.03158663, 0.00699336, 0.14840257, 0.96664933, 0.73378217],\n",
       "       [0.61473062, 0.77006391, 0.10633858, 0.4921268 , 0.02048098,\n",
       "        0.46333857, 0.02413298, 0.65039939, 0.73798219, 0.72368464],\n",
       "       [0.30368079, 0.57142128, 0.38658489, 0.25119022, 0.39563942,\n",
       "        0.11912396, 0.9793234 , 0.55279762, 0.27079911, 0.61904485],\n",
       "       [0.11432746, 0.23426895, 0.37066001, 0.18909055, 0.58551469,\n",
       "        0.90166249, 0.35157953, 0.97804117, 0.24947662, 0.31372456],\n",
       "       [0.99660921, 0.55803607, 0.94986444, 0.4900395 , 0.04471422,\n",
       "        0.61562739, 0.84973339, 0.03858103, 0.8019312 , 0.42246724],\n",
       "       [0.27055164, 0.09521499, 0.85540181, 0.95611417, 0.41059018,\n",
       "        0.67720264, 0.79546712, 0.4223289 , 0.98468871, 0.85243126],\n",
       "       [0.1348061 , 0.09778675, 0.15082619, 0.00860345, 0.83397354,\n",
       "        0.04039731, 0.74861645, 0.17071033, 0.36309895, 0.07945951]])"
      ]
     },
     "execution_count": 10,
     "metadata": {},
     "output_type": "execute_result"
    }
   ],
   "source": [
    "test_array"
   ]
  },
  {
   "cell_type": "code",
   "execution_count": null,
   "metadata": {},
   "outputs": [],
   "source": []
  }
 ],
 "metadata": {
  "kernelspec": {
   "display_name": "Python [conda env:mimic]",
   "language": "python",
   "name": "conda-env-mimic-py"
  },
  "language_info": {
   "codemirror_mode": {
    "name": "ipython",
    "version": 3
   },
   "file_extension": ".py",
   "mimetype": "text/x-python",
   "name": "python",
   "nbconvert_exporter": "python",
   "pygments_lexer": "ipython3",
   "version": "3.6.6"
  }
 },
 "nbformat": 4,
 "nbformat_minor": 2
}
