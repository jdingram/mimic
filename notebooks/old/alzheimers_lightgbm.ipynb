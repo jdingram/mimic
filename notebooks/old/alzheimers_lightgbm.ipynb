{
 "cells": [
  {
   "cell_type": "code",
   "execution_count": 1,
   "metadata": {},
   "outputs": [
    {
     "name": "stderr",
     "output_type": "stream",
     "text": [
      "/Users/James/anaconda3/envs/mimic/lib/python3.6/site-packages/lightgbm/__init__.py:46: UserWarning: Starting from version 2.2.1, the library file in distribution wheels for macOS is built by the Apple Clang (Xcode_9.4.1) compiler.\n",
      "This means that in case of installing LightGBM from PyPI via the ``pip install lightgbm`` command, you don't need to install the gcc compiler anymore.\n",
      "Instead of that, you need to install the OpenMP library, which is required for running LightGBM on the system with the Apple Clang compiler.\n",
      "You can install the OpenMP library by the following command: ``brew install libomp``.\n",
      "  \"You can install the OpenMP library by the following command: ``brew install libomp``.\", UserWarning)\n",
      "Using TensorFlow backend.\n"
     ]
    }
   ],
   "source": [
    "# Import libraries\n",
    "import os\n",
    "import sys\n",
    "\n",
    "import pandas as pd\n",
    "import numpy as np\n",
    "import random\n",
    "import matplotlib.pyplot as plt\n",
    "import seaborn as sns\n",
    "import itertools\n",
    "import statistics\n",
    "import datetime as dt\n",
    "\n",
    "from sklearn.preprocessing import MinMaxScaler, Imputer\n",
    "from sklearn.model_selection import KFold\n",
    "from sklearn.metrics import roc_auc_score\n",
    "from sklearn.model_selection import train_test_split\n",
    "\n",
    "import lightgbm as lgb\n",
    "\n",
    "import keras\n",
    "from keras.models import Sequential\n",
    "from keras.layers import Dense"
   ]
  },
  {
   "cell_type": "code",
   "execution_count": 2,
   "metadata": {},
   "outputs": [
    {
     "data": {
      "text/plain": [
       "'/Users/James/anaconda3/envs/mimic/bin/python'"
      ]
     },
     "execution_count": 2,
     "metadata": {},
     "output_type": "execute_result"
    }
   ],
   "source": [
    "# Check virtual environment: should be: '/Users/James/anaconda3/envs/mimic/bin/python'\n",
    "sys.executable"
   ]
  },
  {
   "cell_type": "code",
   "execution_count": 3,
   "metadata": {},
   "outputs": [],
   "source": [
    "# Set up paths\n",
    "project_root = os.path.abspath(os.path.join(os.getcwd(), os.pardir))\n",
    "src_folder = os.path.join(project_root, 'src')\n",
    "\n",
    "src_preparation_folder = os.path.join(src_folder, 'preparation')\n",
    "src_processing_folder = os.path.join(src_folder, 'processing')\n",
    "src_modeling_folder = os.path.join(src_folder, 'modeling')"
   ]
  },
  {
   "cell_type": "code",
   "execution_count": 4,
   "metadata": {},
   "outputs": [
    {
     "name": "stderr",
     "output_type": "stream",
     "text": [
      "/Users/James/anaconda3/envs/mimic/lib/python3.6/site-packages/psycopg2/__init__.py:144: UserWarning: The psycopg2 wheel package will be renamed from release 2.8; in order to keep installing from binary please use \"pip install psycopg2-binary\" instead. For details see: <http://initd.org/psycopg/docs/install.html#binary-install-from-pypi>.\n",
      "  \"\"\")\n"
     ]
    }
   ],
   "source": [
    "# Import src functions\n",
    "sys.path.insert(0, src_preparation_folder)\n",
    "from import_data import get_table\n",
    "from import_data import get_patient_admissions_diagnoses\n",
    "from import_data import get_admission_data\n",
    "from import_data import get_chartevents\n",
    "from import_data import get_labevents\n",
    "from extract_codes import find_ndc_codes\n",
    "\n",
    "sys.path.insert(0, src_processing_folder)\n",
    "from stats import plot_KDE\n",
    "from stats import plot_perc_bar_chart\n",
    "from stats import compare_groups\n",
    "\n",
    "sys.path.insert(0, src_modeling_folder)\n",
    "from models import train_lgb"
   ]
  },
  {
   "cell_type": "code",
   "execution_count": 5,
   "metadata": {},
   "outputs": [],
   "source": [
    "# RANDOM ARRAYS FOR TESTING AND BUILDING MODELS\n",
    "#features = np.random.rand(100,100)\n",
    "#labels = np.random.randint(0,2,100)"
   ]
  },
  {
   "cell_type": "code",
   "execution_count": 6,
   "metadata": {},
   "outputs": [],
   "source": [
    "features = np.load(os.path.join(os.getcwd(), os.pardir, 'data', 'alzheimers_features.npy'))\n",
    "labels = np.load(os.path.join(os.getcwd(), os.pardir, 'data', 'alzheimers_labels.npy'))"
   ]
  },
  {
   "cell_type": "code",
   "execution_count": 7,
   "metadata": {},
   "outputs": [
    {
     "name": "stdout",
     "output_type": "stream",
     "text": [
      "(4380, 1526)\n",
      "(4380,)\n"
     ]
    }
   ],
   "source": [
    "print(features.shape)\n",
    "print(labels.shape)"
   ]
  },
  {
   "cell_type": "code",
   "execution_count": 8,
   "metadata": {},
   "outputs": [
    {
     "name": "stdout",
     "output_type": "stream",
     "text": [
      "LGB starting\n",
      "Training until validation scores don't improve for 500 rounds.\n",
      "[100]\tvalid's auc: 0.661279\ttrain's auc: 0.801919\n",
      "[200]\tvalid's auc: 0.669064\ttrain's auc: 0.826288\n",
      "[300]\tvalid's auc: 0.676801\ttrain's auc: 0.843078\n",
      "[400]\tvalid's auc: 0.686376\ttrain's auc: 0.855599\n",
      "[500]\tvalid's auc: 0.692274\ttrain's auc: 0.867739\n",
      "[600]\tvalid's auc: 0.697801\ttrain's auc: 0.876587\n",
      "[700]\tvalid's auc: 0.700886\ttrain's auc: 0.883467\n",
      "[800]\tvalid's auc: 0.704267\ttrain's auc: 0.8898\n",
      "[900]\tvalid's auc: 0.70671\ttrain's auc: 0.895123\n",
      "[1000]\tvalid's auc: 0.70977\ttrain's auc: 0.899901\n",
      "[1100]\tvalid's auc: 0.70935\ttrain's auc: 0.90358\n",
      "[1200]\tvalid's auc: 0.711102\ttrain's auc: 0.907542\n",
      "[1300]\tvalid's auc: 0.71204\ttrain's auc: 0.910963\n",
      "[1400]\tvalid's auc: 0.712484\ttrain's auc: 0.913954\n",
      "[1500]\tvalid's auc: 0.712928\ttrain's auc: 0.916706\n",
      "[1600]\tvalid's auc: 0.713422\ttrain's auc: 0.919201\n",
      "[1700]\tvalid's auc: 0.712287\ttrain's auc: 0.921604\n",
      "[1800]\tvalid's auc: 0.711349\ttrain's auc: 0.923859\n",
      "[1900]\tvalid's auc: 0.710214\ttrain's auc: 0.926033\n",
      "[2000]\tvalid's auc: 0.710806\ttrain's auc: 0.92805\n",
      "Early stopping, best iteration is:\n",
      "[1548]\tvalid's auc: 0.713718\ttrain's auc: 0.917936\n",
      "Training until validation scores don't improve for 500 rounds.\n",
      "[100]\tvalid's auc: 0.65355\ttrain's auc: 0.791321\n",
      "[200]\tvalid's auc: 0.704827\ttrain's auc: 0.821819\n",
      "[300]\tvalid's auc: 0.724375\ttrain's auc: 0.840667\n",
      "[400]\tvalid's auc: 0.720016\ttrain's auc: 0.85409\n",
      "[500]\tvalid's auc: 0.719856\ttrain's auc: 0.864801\n",
      "[600]\tvalid's auc: 0.717984\ttrain's auc: 0.873366\n",
      "[700]\tvalid's auc: 0.71531\ttrain's auc: 0.880337\n",
      "[800]\tvalid's auc: 0.714882\ttrain's auc: 0.885985\n",
      "Early stopping, best iteration is:\n",
      "[309]\tvalid's auc: 0.726487\ttrain's auc: 0.841961\n",
      "Training until validation scores don't improve for 500 rounds.\n",
      "[100]\tvalid's auc: 0.648396\ttrain's auc: 0.804614\n",
      "[200]\tvalid's auc: 0.653923\ttrain's auc: 0.826557\n",
      "[300]\tvalid's auc: 0.646323\ttrain's auc: 0.840431\n",
      "[400]\tvalid's auc: 0.647823\ttrain's auc: 0.850995\n",
      "[500]\tvalid's auc: 0.649676\ttrain's auc: 0.85994\n",
      "[600]\tvalid's auc: 0.652288\ttrain's auc: 0.867248\n",
      "Early stopping, best iteration is:\n",
      "[153]\tvalid's auc: 0.657731\ttrain's auc: 0.820118\n",
      "Training until validation scores don't improve for 500 rounds.\n",
      "[100]\tvalid's auc: 0.637153\ttrain's auc: 0.776468\n",
      "[200]\tvalid's auc: 0.659522\ttrain's auc: 0.807301\n",
      "[300]\tvalid's auc: 0.672557\ttrain's auc: 0.827325\n",
      "[400]\tvalid's auc: 0.678191\ttrain's auc: 0.840103\n",
      "[500]\tvalid's auc: 0.684507\ttrain's auc: 0.850923\n",
      "[600]\tvalid's auc: 0.691681\ttrain's auc: 0.858673\n",
      "[700]\tvalid's auc: 0.69462\ttrain's auc: 0.86473\n",
      "[800]\tvalid's auc: 0.697612\ttrain's auc: 0.869744\n",
      "[900]\tvalid's auc: 0.700726\ttrain's auc: 0.874141\n",
      "[1000]\tvalid's auc: 0.703805\ttrain's auc: 0.878148\n",
      "[1100]\tvalid's auc: 0.70748\ttrain's auc: 0.882265\n",
      "[1200]\tvalid's auc: 0.711679\ttrain's auc: 0.885502\n",
      "[1300]\tvalid's auc: 0.71544\ttrain's auc: 0.8888\n",
      "[1400]\tvalid's auc: 0.71831\ttrain's auc: 0.891927\n",
      "[1500]\tvalid's auc: 0.71908\ttrain's auc: 0.895005\n",
      "[1600]\tvalid's auc: 0.719412\ttrain's auc: 0.897905\n",
      "[1700]\tvalid's auc: 0.719517\ttrain's auc: 0.900519\n",
      "[1800]\tvalid's auc: 0.719535\ttrain's auc: 0.90305\n",
      "[1900]\tvalid's auc: 0.7181\ttrain's auc: 0.905556\n",
      "[2000]\tvalid's auc: 0.718677\ttrain's auc: 0.907919\n",
      "[2100]\tvalid's auc: 0.718415\ttrain's auc: 0.910091\n",
      "[2200]\tvalid's auc: 0.716753\ttrain's auc: 0.91256\n",
      "Early stopping, best iteration is:\n",
      "[1718]\tvalid's auc: 0.720024\ttrain's auc: 0.901019\n",
      "Training until validation scores don't improve for 500 rounds.\n",
      "[100]\tvalid's auc: 0.648783\ttrain's auc: 0.785986\n",
      "[200]\tvalid's auc: 0.670192\ttrain's auc: 0.808112\n",
      "[300]\tvalid's auc: 0.678287\ttrain's auc: 0.826567\n",
      "[400]\tvalid's auc: 0.657867\ttrain's auc: 0.843815\n",
      "[500]\tvalid's auc: 0.657142\ttrain's auc: 0.855024\n",
      "[600]\tvalid's auc: 0.657705\ttrain's auc: 0.864079\n",
      "[700]\tvalid's auc: 0.655914\ttrain's auc: 0.870471\n",
      "Early stopping, best iteration is:\n",
      "[278]\tvalid's auc: 0.679873\ttrain's auc: 0.822333\n"
     ]
    },
    {
     "data": {
      "text/html": [
       "<div>\n",
       "<style scoped>\n",
       "    .dataframe tbody tr th:only-of-type {\n",
       "        vertical-align: middle;\n",
       "    }\n",
       "\n",
       "    .dataframe tbody tr th {\n",
       "        vertical-align: top;\n",
       "    }\n",
       "\n",
       "    .dataframe thead th {\n",
       "        text-align: right;\n",
       "    }\n",
       "</style>\n",
       "<table border=\"1\" class=\"dataframe\">\n",
       "  <thead>\n",
       "    <tr style=\"text-align: right;\">\n",
       "      <th></th>\n",
       "      <th>fold</th>\n",
       "      <th>train</th>\n",
       "      <th>valid</th>\n",
       "    </tr>\n",
       "  </thead>\n",
       "  <tbody>\n",
       "    <tr>\n",
       "      <th>0</th>\n",
       "      <td>0</td>\n",
       "      <td>0.917936</td>\n",
       "      <td>0.713718</td>\n",
       "    </tr>\n",
       "    <tr>\n",
       "      <th>1</th>\n",
       "      <td>1</td>\n",
       "      <td>0.841961</td>\n",
       "      <td>0.726487</td>\n",
       "    </tr>\n",
       "    <tr>\n",
       "      <th>2</th>\n",
       "      <td>2</td>\n",
       "      <td>0.820118</td>\n",
       "      <td>0.657731</td>\n",
       "    </tr>\n",
       "    <tr>\n",
       "      <th>3</th>\n",
       "      <td>3</td>\n",
       "      <td>0.901019</td>\n",
       "      <td>0.720024</td>\n",
       "    </tr>\n",
       "    <tr>\n",
       "      <th>4</th>\n",
       "      <td>4</td>\n",
       "      <td>0.822333</td>\n",
       "      <td>0.679873</td>\n",
       "    </tr>\n",
       "    <tr>\n",
       "      <th>5</th>\n",
       "      <td>overall</td>\n",
       "      <td>0.860673</td>\n",
       "      <td>0.697504</td>\n",
       "    </tr>\n",
       "  </tbody>\n",
       "</table>\n",
       "</div>"
      ],
      "text/plain": [
       "      fold     train     valid\n",
       "0        0  0.917936  0.713718\n",
       "1        1  0.841961  0.726487\n",
       "2        2  0.820118  0.657731\n",
       "3        3  0.901019  0.720024\n",
       "4        4  0.822333  0.679873\n",
       "5  overall  0.860673  0.697504"
      ]
     },
     "execution_count": 8,
     "metadata": {},
     "output_type": "execute_result"
    }
   ],
   "source": [
    "# Train a Light GBM\n",
    "train_lgb(features = features,\n",
    "         labels = labels,\n",
    "         n_folds = 5,\n",
    "         params = {\n",
    "            'metric':'auc',\n",
    "            'nthread':4,\n",
    "            'n_estimators':10000,\n",
    "            'learning_rate':0.01,\n",
    "            'num_leaves':5,\n",
    "            'colsample_bytree':0.9497036,\n",
    "            'subsample':0.8715623,\n",
    "            'max_depth':5,\n",
    "            'reg_alpha':1,\n",
    "            'reg_lambda':1,\n",
    "            'min_split_gain':0.0222415,\n",
    "            'min_child_weight':39.3259775,\n",
    "            'silent':-1,\n",
    "            'verbose':-1\n",
    "         },\n",
    "         eval_metric = 'auc',\n",
    "         early_stopping_rounds = 500,\n",
    "         verbose = 100)       "
   ]
  }
 ],
 "metadata": {
  "kernelspec": {
   "display_name": "Python [conda env:mimic]",
   "language": "python",
   "name": "conda-env-mimic-py"
  },
  "language_info": {
   "codemirror_mode": {
    "name": "ipython",
    "version": 3
   },
   "file_extension": ".py",
   "mimetype": "text/x-python",
   "name": "python",
   "nbconvert_exporter": "python",
   "pygments_lexer": "ipython3",
   "version": "3.6.6"
  }
 },
 "nbformat": 4,
 "nbformat_minor": 2
}
