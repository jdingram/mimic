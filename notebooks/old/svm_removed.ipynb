{
 "cells": [
  {
   "cell_type": "markdown",
   "metadata": {},
   "source": [
    "## SVM"
   ]
  },
  {
   "cell_type": "code",
   "execution_count": null,
   "metadata": {},
   "outputs": [],
   "source": [
    "# define the grid search parameters\n",
    "C=list(np.logspace(-4, 5, 10))\n",
    "gamma=list(np.logspace(-7, 4, 12))\n",
    "kernel=['linear', 'poly', 'rbf', 'sigmoid']\n",
    "degree=[1,2,3]\n",
    "\n",
    "# Create the random grid\n",
    "svm_random_grid = {'C': C,\n",
    "                   'kernel': kernel,\n",
    "                   'degree': degree,\n",
    "                   'gamma': gamma}\n",
    "\n",
    "print('--> Grid defined')"
   ]
  },
  {
   "cell_type": "code",
   "execution_count": null,
   "metadata": {},
   "outputs": [],
   "source": [
    "# Run the random search model\n",
    "svm_random_search_model = run_random_search(model=SVC(class_weight='balanced'),\n",
    "                                        random_grid=svm_random_grid,\n",
    "                                        scoring='roc_auc', cv=4, n_iter=iterations_per_model, \n",
    "                                        X_train=X_train, y_train=y_train)"
   ]
  },
  {
   "cell_type": "code",
   "execution_count": null,
   "metadata": {},
   "outputs": [],
   "source": [
    "# Visualise the results to find optimal hyperparameters\n",
    "svm_results = visualise_results(random_grid=svm_random_grid, random_search_model=svm_random_search_model,\n",
    "                            training_score='mean_train_score', cv_score='mean_test_score', fit_time='mean_fit_time')\n",
    "svm_results"
   ]
  },
  {
   "cell_type": "code",
   "execution_count": null,
   "metadata": {},
   "outputs": [],
   "source": []
  }
 ],
 "metadata": {
  "kernelspec": {
   "display_name": "Python [conda env:mimic]",
   "language": "python",
   "name": "conda-env-mimic-py"
  },
  "language_info": {
   "codemirror_mode": {
    "name": "ipython",
    "version": 3
   },
   "file_extension": ".py",
   "mimetype": "text/x-python",
   "name": "python",
   "nbconvert_exporter": "python",
   "pygments_lexer": "ipython3",
   "version": "3.6.6"
  }
 },
 "nbformat": 4,
 "nbformat_minor": 2
}
