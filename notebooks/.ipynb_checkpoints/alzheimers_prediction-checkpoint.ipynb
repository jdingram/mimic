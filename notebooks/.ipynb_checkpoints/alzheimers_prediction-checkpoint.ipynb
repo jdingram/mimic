{
 "cells": [
  {
   "cell_type": "code",
   "execution_count": 1,
   "metadata": {},
   "outputs": [],
   "source": [
    "# Import libraries\n",
    "import os\n",
    "import sys\n",
    "\n",
    "import pandas as pd\n",
    "import numpy as np\n",
    "import random\n",
    "import matplotlib.pyplot as plt\n",
    "import seaborn as sns\n",
    "import itertools\n",
    "import statistics\n",
    "import datetime as dt"
   ]
  },
  {
   "cell_type": "code",
   "execution_count": 2,
   "metadata": {},
   "outputs": [
    {
     "data": {
      "text/plain": [
       "'/Users/James/anaconda3/envs/mimic/bin/python'"
      ]
     },
     "execution_count": 2,
     "metadata": {},
     "output_type": "execute_result"
    }
   ],
   "source": [
    "# Check virtual environment: should be: '/Users/James/anaconda3/envs/mimic/bin/python'\n",
    "sys.executable"
   ]
  },
  {
   "cell_type": "code",
   "execution_count": 3,
   "metadata": {},
   "outputs": [],
   "source": [
    "# Set up paths\n",
    "project_root = os.path.abspath(os.path.join(os.getcwd(), os.pardir))\n",
    "src_folder = os.path.join(project_root, 'src')\n",
    "src_preparation_folder = os.path.join(src_folder, 'preparation')"
   ]
  },
  {
   "cell_type": "code",
   "execution_count": 4,
   "metadata": {},
   "outputs": [],
   "source": [
    "# Import src functions\n",
    "sys.path.insert(0, src_preparation_folder)\n",
    "from import_data import get_table\n",
    "from import_data import get_patient_admissions_diagnoses\n",
    "from import_data import get_admission_data\n",
    "from extract_codes import find_ndc_codes"
   ]
  },
  {
   "cell_type": "code",
   "execution_count": 5,
   "metadata": {},
   "outputs": [
    {
     "name": "stdout",
     "output_type": "stream",
     "text": [
      "503\n"
     ]
    }
   ],
   "source": [
    "# Get subjects\n",
    "subjects = get_table(host = 'localhost',\n",
    "                  dbname = 'mimic',\n",
    "                  schema = 'mimiciii',\n",
    "                  table = 'diagnoses_icd',\n",
    "                  columns = 'DISTINCT subject_id',\n",
    "                  where = \"icd9_code ='3310'\").subject_id.tolist()\n",
    "print(len(subjects))"
   ]
  },
  {
   "cell_type": "code",
   "execution_count": 6,
   "metadata": {},
   "outputs": [
    {
     "name": "stdout",
     "output_type": "stream",
     "text": [
      "46017\n"
     ]
    },
    {
     "data": {
      "text/plain": [
       "1000"
      ]
     },
     "execution_count": 6,
     "metadata": {},
     "output_type": "execute_result"
    }
   ],
   "source": [
    "# Get a random sample of patients (not in original subject list)\n",
    "base = get_table(host = 'localhost',\n",
    "                  dbname = 'mimic',\n",
    "                  schema = 'mimiciii',\n",
    "                  table = 'patients',\n",
    "                  columns = 'DISTINCT subject_id',\n",
    "                  where = \"subject_id NOT IN {} AND subject_id > 0\".format(tuple(set(subjects)))).subject_id.tolist()\n",
    "print(len(base))\n",
    "base = [base[i] for i in sorted(random.sample(range(len(base)), 1000))]\n",
    "len(base)"
   ]
  },
  {
   "cell_type": "code",
   "execution_count": 7,
   "metadata": {},
   "outputs": [
    {
     "name": "stdout",
     "output_type": "stream",
     "text": [
      "(9822, 21)\n",
      "(13592, 21)\n"
     ]
    }
   ],
   "source": [
    "# Get patient, admission and diagnosis data for these subjects\n",
    "group = get_patient_admissions_diagnoses(subjects)\n",
    "print(group.shape)\n",
    "\n",
    "base_group = get_patient_admissions_diagnoses(base)\n",
    "print(base_group.shape)"
   ]
  },
  {
   "cell_type": "code",
   "execution_count": 8,
   "metadata": {},
   "outputs": [
    {
     "name": "stdout",
     "output_type": "stream",
     "text": [
      "450\n",
      "1000\n"
     ]
    }
   ],
   "source": [
    "# --- Create lists of admissions to compare in each group\n",
    "\n",
    "# From subjects keep only cases where it was their first admission and they were diagnosed on this admission\n",
    "subject_adm = group[(group['admission_number'] == 1) & (group['diagnosis_icd9'] == '3310')].hadm_id.unique().tolist()\n",
    "print(len(subject_adm))\n",
    "\n",
    "# Keep only first admissions of base group\n",
    "base_adm = base_group[base_group['admission_number'] == 1].hadm_id.unique().tolist()\n",
    "print(len(base_adm))"
   ]
  },
  {
   "cell_type": "code",
   "execution_count": 9,
   "metadata": {},
   "outputs": [
    {
     "data": {
      "text/html": [
       "<div>\n",
       "<style scoped>\n",
       "    .dataframe tbody tr th:only-of-type {\n",
       "        vertical-align: middle;\n",
       "    }\n",
       "\n",
       "    .dataframe tbody tr th {\n",
       "        vertical-align: top;\n",
       "    }\n",
       "\n",
       "    .dataframe thead th {\n",
       "        text-align: right;\n",
       "    }\n",
       "</style>\n",
       "<table border=\"1\" class=\"dataframe\">\n",
       "  <thead>\n",
       "    <tr style=\"text-align: right;\">\n",
       "      <th></th>\n",
       "      <th>subject_id</th>\n",
       "      <th>group</th>\n",
       "      <th>gender</th>\n",
       "      <th>age_on_admission</th>\n",
       "      <th>age_adm_bucket</th>\n",
       "      <th>ethnicity</th>\n",
       "      <th>ethnicity_simple</th>\n",
       "      <th>diagnosis_name</th>\n",
       "      <th>hospital_expire_flag</th>\n",
       "    </tr>\n",
       "  </thead>\n",
       "  <tbody>\n",
       "    <tr>\n",
       "      <th>0</th>\n",
       "      <td>72402</td>\n",
       "      <td>subject</td>\n",
       "      <td>M</td>\n",
       "      <td>79</td>\n",
       "      <td>4. 75-89</td>\n",
       "      <td>WHITE</td>\n",
       "      <td>WHITE</td>\n",
       "      <td>Urinary obstruction NEC</td>\n",
       "      <td>0</td>\n",
       "    </tr>\n",
       "    <tr>\n",
       "      <th>1</th>\n",
       "      <td>72402</td>\n",
       "      <td>subject</td>\n",
       "      <td>M</td>\n",
       "      <td>79</td>\n",
       "      <td>4. 75-89</td>\n",
       "      <td>WHITE</td>\n",
       "      <td>WHITE</td>\n",
       "      <td>Subendo infarct, initial</td>\n",
       "      <td>0</td>\n",
       "    </tr>\n",
       "    <tr>\n",
       "      <th>2</th>\n",
       "      <td>72402</td>\n",
       "      <td>subject</td>\n",
       "      <td>M</td>\n",
       "      <td>79</td>\n",
       "      <td>4. 75-89</td>\n",
       "      <td>WHITE</td>\n",
       "      <td>WHITE</td>\n",
       "      <td>Food/vomit pneumonitis</td>\n",
       "      <td>0</td>\n",
       "    </tr>\n",
       "    <tr>\n",
       "      <th>3</th>\n",
       "      <td>72402</td>\n",
       "      <td>subject</td>\n",
       "      <td>M</td>\n",
       "      <td>79</td>\n",
       "      <td>4. 75-89</td>\n",
       "      <td>WHITE</td>\n",
       "      <td>WHITE</td>\n",
       "      <td>Ac on chr diast hrt fail</td>\n",
       "      <td>0</td>\n",
       "    </tr>\n",
       "    <tr>\n",
       "      <th>4</th>\n",
       "      <td>72402</td>\n",
       "      <td>subject</td>\n",
       "      <td>M</td>\n",
       "      <td>79</td>\n",
       "      <td>4. 75-89</td>\n",
       "      <td>WHITE</td>\n",
       "      <td>WHITE</td>\n",
       "      <td>Ac DVT/emb prox low ext</td>\n",
       "      <td>0</td>\n",
       "    </tr>\n",
       "  </tbody>\n",
       "</table>\n",
       "</div>"
      ],
      "text/plain": [
       "   subject_id    group gender  age_on_admission age_adm_bucket ethnicity  \\\n",
       "0       72402  subject      M                79       4. 75-89     WHITE   \n",
       "1       72402  subject      M                79       4. 75-89     WHITE   \n",
       "2       72402  subject      M                79       4. 75-89     WHITE   \n",
       "3       72402  subject      M                79       4. 75-89     WHITE   \n",
       "4       72402  subject      M                79       4. 75-89     WHITE   \n",
       "\n",
       "  ethnicity_simple            diagnosis_name  hospital_expire_flag  \n",
       "0            WHITE   Urinary obstruction NEC                     0  \n",
       "1            WHITE  Subendo infarct, initial                     0  \n",
       "2            WHITE    Food/vomit pneumonitis                     0  \n",
       "3            WHITE  Ac on chr diast hrt fail                     0  \n",
       "4            WHITE   Ac DVT/emb prox low ext                     0  "
      ]
     },
     "execution_count": 9,
     "metadata": {},
     "output_type": "execute_result"
    }
   ],
   "source": [
    "# --- Get patient, admission and diagnosis data for these admissions\n",
    "subject_admission_data = get_admission_data(subject_adm)\n",
    "base_admission_data = get_admission_data(base_adm)\n",
    "\n",
    "# Add flags for subject or base group\n",
    "subject_admission_data['group'] = 'subject'\n",
    "base_admission_data['group'] = 'base'\n",
    "\n",
    "# Concatenate into 1 DF\n",
    "df = subject_admission_data.append(base_admission_data)\n",
    "del group, base\n",
    "\n",
    "# Keep only necessary columns\n",
    "df = df[['subject_id', 'group', 'gender', 'age_on_admission', 'age_adm_bucket', 'ethnicity', 'ethnicity_simple',\\\n",
    "         'diagnosis_name', 'hospital_expire_flag']]\n",
    "df.head()"
   ]
  },
  {
   "cell_type": "code",
   "execution_count": 10,
   "metadata": {},
   "outputs": [],
   "source": [
    "# Define function for plotting a KDE\n",
    "def plot_KDE(df, group_by, group_a, group_b, feature):\n",
    "    \n",
    "    plt.figure(figsize = (7, 5))\n",
    "\n",
    "    #Remove NaNs\n",
    "    df = df[[group_by, feature]]\n",
    "    df.dropna(inplace=True)\n",
    "    \n",
    "    # KDE plot of patients who survived\n",
    "    sns.kdeplot(df.loc[df[group_by] == group_a, feature], label = group_a)\n",
    "\n",
    "    # KDE plot of patients who died\n",
    "    sns.kdeplot(df.loc[df[group_by] == group_b, feature], label = group_b)\n",
    "\n",
    "    # Labeling of plot\n",
    "    plt.xlabel(feature); plt.ylabel('Density'); plt.title(feature);\n",
    "    \n",
    "    plt.show()"
   ]
  },
  {
   "cell_type": "code",
   "execution_count": 11,
   "metadata": {},
   "outputs": [
    {
     "name": "stderr",
     "output_type": "stream",
     "text": [
      "/Users/James/anaconda3/envs/mimic/lib/python3.7/site-packages/ipykernel_launcher.py:8: SettingWithCopyWarning: \n",
      "A value is trying to be set on a copy of a slice from a DataFrame\n",
      "\n",
      "See the caveats in the documentation: http://pandas.pydata.org/pandas-docs/stable/indexing.html#indexing-view-versus-copy\n",
      "  \n"
     ]
    },
    {
     "data": {
      "image/png": "[encoded data removed]",
      "text/plain": [
       "<Figure size 504x360 with 1 Axes>"
      ]
     },
     "metadata": {
      "needs_background": "light"
     },
     "output_type": "display_data"
    }
   ],
   "source": [
    "plot_KDE(df, 'group', 'subject', 'base', 'age_on_admission')"
   ]
  },
  {
   "cell_type": "code",
   "execution_count": 12,
   "metadata": {},
   "outputs": [],
   "source": [
    "# Define function for plotting a KDE\n",
    "def plot_perc_bar_chart(df, group_by, group_a, group_b, feature, value):\n",
    "    t = df.groupby([group_by, feature]).agg({value: 'nunique'}).reset_index()\n",
    "    t['tot'] = t.groupby(group_by).subject_id.transform('sum')\n",
    "    t['perc'] = t[value] / t['tot']\n",
    "    sns.barplot(data=t, x=feature, y=\"perc\", hue=group_by)\n",
    "    plt.xticks(rotation='vertical');\n",
    "    plt.show()"
   ]
  },
  {
   "cell_type": "code",
   "execution_count": 13,
   "metadata": {},
   "outputs": [
    {
     "data": {
      "image/png": "[encoded data removed]",
      "text/plain": [
       "<Figure size 432x288 with 1 Axes>"
      ]
     },
     "metadata": {
      "needs_background": "light"
     },
     "output_type": "display_data"
    }
   ],
   "source": [
    "plot_perc_bar_chart(df = df,\n",
    "                    group_by = 'group',\n",
    "                    group_a = 'subject',\n",
    "                    group_b = 'base',\n",
    "                    feature = 'age_adm_bucket',\n",
    "                    value = 'subject_id')"
   ]
  },
  {
   "cell_type": "code",
   "execution_count": 14,
   "metadata": {},
   "outputs": [
    {
     "data": {
      "image/png": "[encoded data removed]",
      "text/plain": [
       "<Figure size 432x288 with 1 Axes>"
      ]
     },
     "metadata": {
      "needs_background": "light"
     },
     "output_type": "display_data"
    }
   ],
   "source": [
    "plot_perc_bar_chart(df = df,\n",
    "                    group_by = 'group',\n",
    "                    group_a = 'subject',\n",
    "                    group_b = 'base',\n",
    "                    feature = 'ethnicity_simple',\n",
    "                    value = 'subject_id')"
   ]
  },
  {
   "cell_type": "code",
   "execution_count": 15,
   "metadata": {},
   "outputs": [
    {
     "data": {
      "image/png": "[encoded data removed]",
      "text/plain": [
       "<Figure size 432x288 with 1 Axes>"
      ]
     },
     "metadata": {
      "needs_background": "light"
     },
     "output_type": "display_data"
    }
   ],
   "source": [
    "plot_perc_bar_chart(df = df,\n",
    "                    group_by = 'group',\n",
    "                    group_a = 'subject',\n",
    "                    group_b = 'base',\n",
    "                    feature = 'gender',\n",
    "                    value = 'subject_id')"
   ]
  },
  {
   "cell_type": "code",
   "execution_count": 16,
   "metadata": {},
   "outputs": [
    {
     "data": {
      "image/png": "[encoded data removed]",
      "text/plain": [
       "<Figure size 432x288 with 1 Axes>"
      ]
     },
     "metadata": {
      "needs_background": "light"
     },
     "output_type": "display_data"
    }
   ],
   "source": [
    "plot_perc_bar_chart(df = df,\n",
    "                    group_by = 'group',\n",
    "                    group_a = 'subject',\n",
    "                    group_b = 'base',\n",
    "                    feature = 'hospital_expire_flag',\n",
    "                    value = 'subject_id')"
   ]
  },
  {
   "cell_type": "code",
   "execution_count": null,
   "metadata": {},
   "outputs": [],
   "source": []
  }
 ],
 "metadata": {
  "kernelspec": {
   "display_name": "Python [conda env:mimic]",
   "language": "python",
   "name": "conda-env-mimic-py"
  },
  "language_info": {
   "codemirror_mode": {
    "name": "ipython",
    "version": 3
   },
   "file_extension": ".py",
   "mimetype": "text/x-python",
   "name": "python",
   "nbconvert_exporter": "python",
   "pygments_lexer": "ipython3",
   "version": "3.7.1"
  }
 },
 "nbformat": 4,
 "nbformat_minor": 2
}
