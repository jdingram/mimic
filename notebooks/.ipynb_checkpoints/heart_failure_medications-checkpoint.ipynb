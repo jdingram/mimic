{
 "cells": [
  {
   "cell_type": "code",
   "execution_count": 1,
   "metadata": {},
   "outputs": [],
   "source": [
    "# Import libraries\n",
    "import os\n",
    "import sys\n",
    "\n",
    "import pandas as pd\n",
    "import numpy as np\n",
    "import random\n",
    "import matplotlib.pyplot as plt\n",
    "import seaborn as sns\n",
    "import itertools\n",
    "import statistics\n",
    "import datetime as dt"
   ]
  },
  {
   "cell_type": "code",
   "execution_count": 2,
   "metadata": {},
   "outputs": [
    {
     "data": {
      "text/plain": [
       "'/Users/James/anaconda3/envs/mimic/bin/python'"
      ]
     },
     "execution_count": 2,
     "metadata": {},
     "output_type": "execute_result"
    }
   ],
   "source": [
    "# Check virtual environment: should be: '/Users/James/anaconda3/envs/mimic/bin/python'\n",
    "sys.executable"
   ]
  },
  {
   "cell_type": "code",
   "execution_count": 3,
   "metadata": {},
   "outputs": [],
   "source": [
    "# Set up paths\n",
    "project_root = os.path.abspath(os.path.join(os.getcwd(), os.pardir))\n",
    "src_folder = os.path.join(project_root, 'src')\n",
    "src_preparation_folder = os.path.join(src_folder, 'preparation')"
   ]
  },
  {
   "cell_type": "code",
   "execution_count": 4,
   "metadata": {},
   "outputs": [
    {
     "name": "stderr",
     "output_type": "stream",
     "text": [
      "/Users/James/anaconda3/envs/mimic/lib/python3.7/site-packages/psycopg2/__init__.py:144: UserWarning: The psycopg2 wheel package will be renamed from release 2.8; in order to keep installing from binary please use \"pip install psycopg2-binary\" instead. For details see: <http://initd.org/psycopg/docs/install.html#binary-install-from-pypi>.\n",
      "  \"\"\")\n"
     ]
    }
   ],
   "source": [
    "# Import src functions\n",
    "sys.path.insert(0, src_preparation_folder)\n",
    "from import_data import get_table\n",
    "from extract_codes import find_ndc_codes"
   ]
  },
  {
   "cell_type": "markdown",
   "metadata": {},
   "source": [
    "## Find all admissions that contained a Heart Failure diagnosis"
   ]
  },
  {
   "cell_type": "code",
   "execution_count": 5,
   "metadata": {},
   "outputs": [
    {
     "name": "stdout",
     "output_type": "stream",
     "text": [
      "('4280')\n"
     ]
    }
   ],
   "source": [
    "# Relevant ICD9 Codes (Heart Failure):\n",
    "icd9_code_list = \"('4280')\"\n",
    "print(icd9_code_list)"
   ]
  },
  {
   "cell_type": "code",
   "execution_count": 6,
   "metadata": {},
   "outputs": [
    {
     "name": "stdout",
     "output_type": "stream",
     "text": [
      "Query executed\n",
      "DF shape is: (13111, 2)\n"
     ]
    },
    {
     "data": {
      "text/html": [
       "<div>\n",
       "<style scoped>\n",
       "    .dataframe tbody tr th:only-of-type {\n",
       "        vertical-align: middle;\n",
       "    }\n",
       "\n",
       "    .dataframe tbody tr th {\n",
       "        vertical-align: top;\n",
       "    }\n",
       "\n",
       "    .dataframe thead th {\n",
       "        text-align: right;\n",
       "    }\n",
       "</style>\n",
       "<table border=\"1\" class=\"dataframe\">\n",
       "  <thead>\n",
       "    <tr style=\"text-align: right;\">\n",
       "      <th></th>\n",
       "      <th>subject_id</th>\n",
       "      <th>hadm_id</th>\n",
       "    </tr>\n",
       "  </thead>\n",
       "  <tbody>\n",
       "    <tr>\n",
       "      <th>0</th>\n",
       "      <td>115</td>\n",
       "      <td>114585</td>\n",
       "    </tr>\n",
       "    <tr>\n",
       "      <th>1</th>\n",
       "      <td>117</td>\n",
       "      <td>140784</td>\n",
       "    </tr>\n",
       "    <tr>\n",
       "      <th>2</th>\n",
       "      <td>124</td>\n",
       "      <td>138376</td>\n",
       "    </tr>\n",
       "    <tr>\n",
       "      <th>3</th>\n",
       "      <td>130</td>\n",
       "      <td>198214</td>\n",
       "    </tr>\n",
       "    <tr>\n",
       "      <th>4</th>\n",
       "      <td>68</td>\n",
       "      <td>108329</td>\n",
       "    </tr>\n",
       "  </tbody>\n",
       "</table>\n",
       "</div>"
      ],
      "text/plain": [
       "   subject_id  hadm_id\n",
       "0         115   114585\n",
       "1         117   140784\n",
       "2         124   138376\n",
       "3         130   198214\n",
       "4          68   108329"
      ]
     },
     "execution_count": 6,
     "metadata": {},
     "output_type": "execute_result"
    }
   ],
   "source": [
    "# Get Heart Disease diagnoses\n",
    "heart_failure_sdmissions = get_table(host = 'localhost',\n",
    "                                  dbname = 'mimic',\n",
    "                                  schema = 'mimiciii',\n",
    "                                  table = 'diagnoses_icd',\n",
    "                                  columns = 'subject_id, hadm_id',\n",
    "                                  where = \"icd9_code IN {}\".format(icd9_code_list))\n",
    "heart_failure_sdmissions.head()"
   ]
  },
  {
   "cell_type": "code",
   "execution_count": 7,
   "metadata": {},
   "outputs": [
    {
     "name": "stdout",
     "output_type": "stream",
     "text": [
      "Heart Failure admissions: 13111\n",
      "Heart Failure subjects: 9843\n"
     ]
    }
   ],
   "source": [
    "# Admissions list\n",
    "admissions = tuple(set(heart_failure_sdmissions['hadm_id'].unique().tolist()))\n",
    "print('Heart Failure admissions: ' + str(len(admissions)))\n",
    "\n",
    "# Subjects list list\n",
    "subjects = tuple(set(heart_failure_sdmissions['subject_id'].unique().tolist()))\n",
    "print('Heart Failure subjects: ' + str(len(subjects)))"
   ]
  },
  {
   "cell_type": "markdown",
   "metadata": {},
   "source": [
    "## Search for all prescriptions for Beta Blockers, ACE inhibitors and ARB"
   ]
  },
  {
   "cell_type": "code",
   "execution_count": 8,
   "metadata": {},
   "outputs": [
    {
     "name": "stdout",
     "output_type": "stream",
     "text": [
      "Query executed\n",
      "DF shape is: (66151, 3)\n"
     ]
    }
   ],
   "source": [
    "#Beta Blockers\n",
    "beta = get_table(host = 'localhost',\n",
    "                dbname = 'mimic',\n",
    "                schema = 'mimiciii',\n",
    "                table = 'prescriptions',\n",
    "                columns = 'drug, ndc, hadm_id',\n",
    "                where = \"LOWER(drug) LIKE '%betaxolol%'\\\n",
    "                        OR LOWER(drug) LIKE '%acebutolol%'\\\n",
    "                        OR LOWER(drug) LIKE '%atenolol%'\\\n",
    "                        OR LOWER(drug) LIKE '%metoprolol%'\\\n",
    "                        OR LOWER(drug) LIKE '%bisoprolol%'\\\n",
    "                        OR LOWER(drug) LIKE '%nebivolol%'\\\n",
    "                        OR LOWER(drug) LIKE '%esmolol%'\\\n",
    "                        OR LOWER(drug) LIKE '%propranolol%'\\\n",
    "                        OR LOWER(drug) LIKE '%nadolol%'\\\n",
    "                        OR LOWER(drug) LIKE '%carvedilol%'\\\n",
    "                        OR LOWER(drug) LIKE '%labetalol%'\\\n",
    "                        OR LOWER(drug) LIKE '%sotalol%'\\\n",
    "                        OR LOWER(drug) LIKE '%timolol%'\\\n",
    "                        OR LOWER(drug) LIKE '%penbutolol%'\\\n",
    "                        OR LOWER(drug) LIKE '%pindolol%'\")"
   ]
  },
  {
   "cell_type": "code",
   "execution_count": 9,
   "metadata": {},
   "outputs": [
    {
     "name": "stdout",
     "output_type": "stream",
     "text": [
      "Query executed\n",
      "DF shape is: (19698, 3)\n"
     ]
    }
   ],
   "source": [
    "#ACE inhibitors\n",
    "ace = get_table(host = 'localhost',\n",
    "                dbname = 'mimic',\n",
    "                schema = 'mimiciii',\n",
    "                table = 'prescriptions',\n",
    "                columns = 'drug, ndc, hadm_id',\n",
    "                where = \"LOWER(drug) LIKE '%fosinopril%'\\\n",
    "                        OR LOWER(drug) LIKE '%captopril%'\\\n",
    "                        OR LOWER(drug) LIKE '%moexipril%'\\\n",
    "                        OR LOWER(drug) LIKE '%ramipril%'\\\n",
    "                        OR LOWER(drug) LIKE '%lisinopril%'\\\n",
    "                        OR LOWER(drug) LIKE '%quinapril%'\\\n",
    "                        OR LOWER(drug) LIKE '%trandolapril%'\\\n",
    "                        OR LOWER(drug) LIKE '%enalapril%'\\\n",
    "                        OR LOWER(drug) LIKE '%benazepril%'\\\n",
    "                        OR LOWER(drug) LIKE '%perindopril%'\")"
   ]
  },
  {
   "cell_type": "code",
   "execution_count": 10,
   "metadata": {},
   "outputs": [
    {
     "name": "stdout",
     "output_type": "stream",
     "text": [
      "Query executed\n",
      "DF shape is: (3100, 3)\n"
     ]
    }
   ],
   "source": [
    "#ARB\n",
    "arb = get_table(host = 'localhost',\n",
    "                dbname = 'mimic',\n",
    "                schema = 'mimiciii',\n",
    "                table = 'prescriptions',\n",
    "                columns = 'drug, ndc, hadm_id',\n",
    "                where = \"LOWER(drug) LIKE '%eprosartan%'\\\n",
    "                        OR LOWER(drug) LIKE '%olmesartan%'\\\n",
    "                        OR LOWER(drug) LIKE '%valsartan%'\\\n",
    "                        OR LOWER(drug) LIKE '%losartan%'\\\n",
    "                        OR LOWER(drug) LIKE '%telmisartan%'\\\n",
    "                        OR LOWER(drug) LIKE '%candesartan%'\\\n",
    "                        OR LOWER(drug) LIKE '%azilsartan medoxomil%'\\\n",
    "                        OR LOWER(drug) LIKE '%irbesartan%'\\\n",
    "                        OR LOWER(drug) LIKE '%valsartan%'\")"
   ]
  },
  {
   "cell_type": "markdown",
   "metadata": {},
   "source": [
    "## Extract the NDC codes from these lists"
   ]
  },
  {
   "cell_type": "code",
   "execution_count": 11,
   "metadata": {},
   "outputs": [
    {
     "name": "stdout",
     "output_type": "stream",
     "text": [
      "==========\n",
      "  Beta Blockers  \n",
      "==========\n",
      "66107 out of 66151 prescriptions have NDC codes\n",
      "94 unique NDC codes\n",
      "----------\n",
      "['Labetalol HCl' 'Metoprolol' 'Atenolol' 'Metoprolol XL' 'Esmolol'\n",
      " 'Metoprolol Tartrate' 'Dorzolamide 2%/Timolol 0.5% Ophth.' 'Carvedilol'\n",
      " 'Timolol Maleate 0.25%' 'Timolol Maleate 0.5%' 'Nadolol'\n",
      " 'Metoprolol Succinate XL' 'Labetalol' 'Propranolol' 'Propranolol HCl'\n",
      " 'Sotalol HCl' 'Metoprolol XL (Toprol XL)' 'METOPROLOL' 'Sotalol'\n",
      " 'Betaxolol Hcl  0.25%' 'Bisoprolol Fumarate' 'Acebutolol HCl'\n",
      " 'Propranolol LA' 'ESMOLOL' 'LABETALOL' 'Betimol (timolol hemihydrate)'\n",
      " 'Betaxolol Ophth Susp  0.25%' 'Betimol ( Timolol )'\n",
      " 'Betaxolol HCl  0.25%' 'Betaxolol HCl' 'Atenolol-Chlorthalidone'\n",
      " 'Pindolol' 'NEO*PO*Propranolol' 'Betaxolol'\n",
      " '*NF* TIMOLOL  HEMIHYDRATE (BETIMOL)' 'timolol'\n",
      " 'Esmolol in Saline (Iso-osm)' 'Propranolol Oral Solution' 'Timolol'\n",
      " 'Timolol Maleate 0.5% XE' 'Metoprolol ' 'Timolol Maleate 0.5% GFS'\n",
      " 'Acebutolol' 'bisoprolol fumarate' 'sotalol' 'Sotalol AF'\n",
      " 'dorzolamide-timolol' 'bisoprolol']\n",
      "----------\n",
      "==========\n",
      "  ACE Inhibitors  \n",
      "==========\n",
      "19694 out of 19698 prescriptions have NDC codes\n",
      "58 unique NDC codes\n",
      "----------\n",
      "['Moexipril HCl' 'Captopril' 'Lisinopril' 'Enalaprilat'\n",
      " 'Enalapril Maleate' 'Trandolapril' 'Ramipril' 'Quinapril'\n",
      " 'NEO*PO*Captopril' 'Benazepril' 'Fosinopril' 'Moexipril'\n",
      " 'Fosinopril Sodium' 'Benazepril HCl' 'benazepril' 'amlodipine-benazepril'\n",
      " 'benazepril-hydrochlorothiazide']\n",
      "----------\n",
      "==========\n",
      "  ARB  \n",
      "==========\n",
      "3094 out of 3100 prescriptions have NDC codes\n",
      "17 unique NDC codes\n",
      "----------\n",
      "['Valsartan' 'Losartan Potassium' 'Irbesartan' 'Losartan'\n",
      " '*NF* Irbesartan' 'olmesartan/hydrochlorothiazide' 'Candesartan'\n",
      " '*NF* Valsartan' 'Candesartan Cilexetil' 'tabletsCandesartan Cilexetil'\n",
      " 'Hyzaar(Losartan/HCTZ)' 'Olmesartan' 'olmesartan' 'candesartan'\n",
      " 'irbesartan']\n",
      "----------\n"
     ]
    }
   ],
   "source": [
    "beta_codes = find_ndc_codes(beta, 'Beta Blockers')\n",
    "ace_codes = find_ndc_codes(ace, 'ACE Inhibitors')\n",
    "arb_codes = find_ndc_codes(arb, 'ARB')"
   ]
  },
  {
   "cell_type": "markdown",
   "metadata": {},
   "source": [
    "## Manuel step needed to remove inappropriate prescriptions from lists"
   ]
  },
  {
   "cell_type": "code",
   "execution_count": 12,
   "metadata": {},
   "outputs": [],
   "source": [
    "# ......."
   ]
  },
  {
   "cell_type": "markdown",
   "metadata": {},
   "source": [
    "## Get all prescriptions for the Heart Failure admissions"
   ]
  },
  {
   "cell_type": "code",
   "execution_count": 13,
   "metadata": {},
   "outputs": [
    {
     "name": "stdout",
     "output_type": "stream",
     "text": [
      "Query executed\n",
      "DF shape is: (571105, 2)\n"
     ]
    },
    {
     "data": {
      "text/html": [
       "<div>\n",
       "<style scoped>\n",
       "    .dataframe tbody tr th:only-of-type {\n",
       "        vertical-align: middle;\n",
       "    }\n",
       "\n",
       "    .dataframe tbody tr th {\n",
       "        vertical-align: top;\n",
       "    }\n",
       "\n",
       "    .dataframe thead th {\n",
       "        text-align: right;\n",
       "    }\n",
       "</style>\n",
       "<table border=\"1\" class=\"dataframe\">\n",
       "  <thead>\n",
       "    <tr style=\"text-align: right;\">\n",
       "      <th></th>\n",
       "      <th>hadm_id</th>\n",
       "      <th>ndc</th>\n",
       "    </tr>\n",
       "  </thead>\n",
       "  <tbody>\n",
       "    <tr>\n",
       "      <th>0</th>\n",
       "      <td>100018</td>\n",
       "      <td>0</td>\n",
       "    </tr>\n",
       "    <tr>\n",
       "      <th>1</th>\n",
       "      <td>100018</td>\n",
       "      <td>00338519741</td>\n",
       "    </tr>\n",
       "    <tr>\n",
       "      <th>3</th>\n",
       "      <td>100018</td>\n",
       "      <td>51079088120</td>\n",
       "    </tr>\n",
       "    <tr>\n",
       "      <th>4</th>\n",
       "      <td>100018</td>\n",
       "      <td>50458022115</td>\n",
       "    </tr>\n",
       "    <tr>\n",
       "      <th>5</th>\n",
       "      <td>100018</td>\n",
       "      <td>00517420125</td>\n",
       "    </tr>\n",
       "  </tbody>\n",
       "</table>\n",
       "</div>"
      ],
      "text/plain": [
       "   hadm_id          ndc\n",
       "0   100018            0\n",
       "1   100018  00338519741\n",
       "3   100018  51079088120\n",
       "4   100018  50458022115\n",
       "5   100018  00517420125"
      ]
     },
     "execution_count": 13,
     "metadata": {},
     "output_type": "execute_result"
    }
   ],
   "source": [
    "prescriptions = get_table(host = 'localhost',\n",
    "                          dbname = 'mimic',\n",
    "                          schema = 'mimiciii',\n",
    "                          table = 'prescriptions',\n",
    "                          columns = 'hadm_id, ndc',\n",
    "                          where = \"hadm_id IN {}\".format(admissions))\n",
    "prescriptions.head()"
   ]
  },
  {
   "cell_type": "code",
   "execution_count": 14,
   "metadata": {},
   "outputs": [
    {
     "name": "stdout",
     "output_type": "stream",
     "text": [
      "              hadm_id\n",
      "ace_arb beta         \n",
      "0       0        1357\n",
      "        1        3829\n",
      "1       0         404\n",
      "        1        6509\n"
     ]
    }
   ],
   "source": [
    "# -- Add ACE/ARB & Beta flags\n",
    "\n",
    "#ACE & ARB\n",
    "prescriptions['ace_arb'] = np.where(prescriptions['ndc'].isin(ace_codes + arb_codes), 1, 0)\n",
    "\n",
    "#BETA\n",
    "prescriptions['beta'] = np.where(prescriptions['ndc'].isin(beta_codes), 1, 0)\n",
    "\n",
    "#Summarise\n",
    "prescriptions = prescriptions.groupby('hadm_id').agg({'ace_arb': ['max'], 'beta': ['max']})\n",
    "\n",
    "#Reset index and rename columns\n",
    "prescriptions.reset_index(inplace=True)\n",
    "prescriptions.columns = prescriptions.columns.get_level_values(0)\n",
    "\n",
    "print(prescriptions.groupby(['ace_arb', 'beta']).count())"
   ]
  },
  {
   "cell_type": "code",
   "execution_count": null,
   "metadata": {},
   "outputs": [],
   "source": []
  }
 ],
 "metadata": {
  "kernelspec": {
   "display_name": "Python [conda env:mimic]",
   "language": "python",
   "name": "conda-env-mimic-py"
  },
  "language_info": {
   "codemirror_mode": {
    "name": "ipython",
    "version": 3
   },
   "file_extension": ".py",
   "mimetype": "text/x-python",
   "name": "python",
   "nbconvert_exporter": "python",
   "pygments_lexer": "ipython3",
   "version": "3.7.1"
  }
 },
 "nbformat": 4,
 "nbformat_minor": 2
}
