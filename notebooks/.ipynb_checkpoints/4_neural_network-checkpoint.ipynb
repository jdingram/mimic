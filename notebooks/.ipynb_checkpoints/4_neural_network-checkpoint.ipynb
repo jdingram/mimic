{
 "cells": [
  {
   "cell_type": "code",
   "execution_count": 1,
   "metadata": {},
   "outputs": [
    {
     "name": "stderr",
     "output_type": "stream",
     "text": [
      "Using TensorFlow backend.\n"
     ]
    }
   ],
   "source": [
    "# Import libraries\n",
    "import os\n",
    "import sys\n",
    "\n",
    "import pandas as pd\n",
    "import numpy as np\n",
    "\n",
    "import random\n",
    "\n",
    "import matplotlib.pyplot as plt\n",
    "import seaborn as sns\n",
    "\n",
    "from sklearn.metrics import roc_auc_score\n",
    "from sklearn.utils import class_weight\n",
    "from sklearn.model_selection import train_test_split\n",
    "\n",
    "from keras.models import Sequential\n",
    "from keras.layers import Dense\n",
    "from keras.layers import Dropout\n",
    "from keras.constraints import maxnorm\n",
    "from keras.optimizers import SGD\n",
    "from keras import backend as K"
   ]
  },
  {
   "cell_type": "code",
   "execution_count": 2,
   "metadata": {},
   "outputs": [],
   "source": [
    "import os\n",
    "os.environ[\"KMP_DUPLICATE_LIB_OK\"]=\"TRUE\""
   ]
  },
  {
   "cell_type": "code",
   "execution_count": 3,
   "metadata": {},
   "outputs": [
    {
     "data": {
      "text/plain": [
       "'/Users/James/anaconda3/envs/mimic/bin/python'"
      ]
     },
     "execution_count": 3,
     "metadata": {},
     "output_type": "execute_result"
    }
   ],
   "source": [
    "# Check virtual environment: should be: '/Users/James/anaconda3/envs/mimic/bin/python'\n",
    "sys.executable"
   ]
  },
  {
   "cell_type": "code",
   "execution_count": 4,
   "metadata": {},
   "outputs": [],
   "source": [
    "# Set up paths\n",
    "project_root = os.path.abspath(os.path.join(os.getcwd(), os.pardir))\n",
    "src_folder = os.path.join(project_root, 'src')"
   ]
  },
  {
   "cell_type": "code",
   "execution_count": 5,
   "metadata": {},
   "outputs": [],
   "source": [
    "# Import src functions\n",
    "sys.path.insert(0, src_folder)\n",
    "from stats_and_visualisations import *\n",
    "from s3_storage import *\n",
    "from model_access import *"
   ]
  },
  {
   "cell_type": "code",
   "execution_count": 6,
   "metadata": {},
   "outputs": [
    {
     "name": "stdout",
     "output_type": "stream",
     "text": [
      "--> Importing done\n"
     ]
    }
   ],
   "source": [
    "# Import data\n",
    "X_train = from_s3(bucket='mimic-jamesi', filename='acute_kidney_failure_X_train.npy')\n",
    "X_test = from_s3(bucket='mimic-jamesi', filename='acute_kidney_failure_X_test.npy')\n",
    "y_train = from_s3(bucket='mimic-jamesi', filename='acute_kidney_failure_y_train.npy')\n",
    "y_test = from_s3(bucket='mimic-jamesi', filename='acute_kidney_failure_y_test.npy')\n",
    "print('--> Importing done')"
   ]
  },
  {
   "cell_type": "code",
   "execution_count": 7,
   "metadata": {},
   "outputs": [
    {
     "name": "stdout",
     "output_type": "stream",
     "text": [
      "--> Training & Validation sets created\n"
     ]
    }
   ],
   "source": [
    "# Split into training and cross validarion sets\n",
    "X_train, X_val, y_train, y_val = train_test_split(X_train, y_train, test_size=0.2, random_state=8)\n",
    "print('--> Training & Validation sets created')"
   ]
  },
  {
   "cell_type": "code",
   "execution_count": 8,
   "metadata": {},
   "outputs": [],
   "source": [
    "### ----- OPTIONS\n",
    "epochs=500\n",
    "batch_size=100"
   ]
  },
  {
   "cell_type": "code",
   "execution_count": 9,
   "metadata": {},
   "outputs": [],
   "source": [
    "# Function to create model, required for KerasClassifier\n",
    "def create_model(input_shape, neurons=1000, weight_constraint=3, dropout_rate=0.1,\n",
    "                 hidden_layers=1, learn_rate=0.001, momentum=0.1):\n",
    "        \n",
    "    # Initialize the constructor\n",
    "    model = Sequential()\n",
    "    \n",
    "    # Add an input layer\n",
    "    model.add(Dense(neurons,\n",
    "                    input_shape=input_shape,\n",
    "                    activation='relu',\n",
    "                    kernel_initializer = 'normal',\n",
    "                    kernel_constraint=maxnorm(weight_constraint)))\n",
    "    model.add(Dropout(dropout_rate))\n",
    "\n",
    "    for i in range(hidden_layers):\n",
    "        # Add one hidden layer\n",
    "        model.add(Dense(neurons,\n",
    "                        activation='relu',\n",
    "                        kernel_initializer = 'normal',\n",
    "                        kernel_constraint=maxnorm(weight_constraint)))\n",
    "        model.add(Dropout(dropout_rate))\n",
    "\n",
    "    # Add an output layer \n",
    "    model.add(Dense(1, kernel_initializer = 'normal', activation='sigmoid'))\n",
    "    \n",
    "    #compile model\n",
    "    optimizer = SGD(lr=learn_rate, momentum=momentum)\n",
    "    model.compile(loss='binary_crossentropy', optimizer=optimizer, metrics=['accuracy'])\n",
    "    \n",
    "    return model"
   ]
  },
  {
   "cell_type": "code",
   "execution_count": 10,
   "metadata": {},
   "outputs": [],
   "source": [
    "def plot_accuracy_by_epoch(df, x_axis='epochs', display_points=50):\n",
    "    \n",
    "    if x_axis == 'lr':\n",
    "        x_labels = df['lr'].tolist()\n",
    "    else:\n",
    "        x_labels = df['epoch'].tolist()\n",
    "    \n",
    "    x_len = len(x_labels)\n",
    "    x = np.arange(x_len)\n",
    "    x_ticks_n = int(np.ceil(x_len/display_points))\n",
    "    \n",
    "    # summarize history for accuracy\n",
    "    fig, ax = plt.subplots(figsize=(10, 7))\n",
    "    ax.plot(x, df['acc'], label='train')\n",
    "    ax.plot(x, df['val_acc'], label='valid')\n",
    "    ax.xaxis.set_ticks(x)\n",
    "    ax.xaxis.set_ticklabels(x_labels)\n",
    "    plt.xticks(rotation='vertical')\n",
    "    plt.legend()\n",
    "    plt.title('model accuracy')\n",
    "    plt.ylabel('accuracy')\n",
    "    plt.xlabel(x_axis)\n",
    "    \n",
    "    for index, label in enumerate(ax.xaxis.get_ticklabels()):\n",
    "        if index % x_ticks_n != 0:\n",
    "            label.set_visible(False)\n",
    "    for index, label in enumerate(ax.xaxis.get_ticklines()):\n",
    "        if index % x_ticks_n != 0:\n",
    "            label.set_visible(False)\n",
    "    \n",
    "    plt.show()\n",
    "    \n",
    "    # summarize history for loss\n",
    "    fig, ax = plt.subplots(figsize=(10, 7))\n",
    "    ax.plot(x, df['loss'], label='train')\n",
    "    ax.plot(x, df['val_loss'], label='valid')\n",
    "    ax.xaxis.set_ticks(x)\n",
    "    ax.xaxis.set_ticklabels(x_labels)\n",
    "    plt.xticks(rotation='vertical')\n",
    "    plt.legend()\n",
    "    plt.title('model loss')\n",
    "    plt.ylabel('loss')\n",
    "    plt.xlabel(x_axis)\n",
    "    \n",
    "    for index, label in enumerate(ax.xaxis.get_ticklabels()):\n",
    "        if index % x_ticks_n != 0:\n",
    "            label.set_visible(False)\n",
    "    for index, label in enumerate(ax.xaxis.get_ticklines()):\n",
    "        if index % x_ticks_n != 0:\n",
    "            label.set_visible(False)\n",
    "    \n",
    "    plt.show()"
   ]
  },
  {
   "cell_type": "code",
   "execution_count": 11,
   "metadata": {},
   "outputs": [],
   "source": [
    "def train_model(X_train, y_train, X_val, y_val, epochs, batch_size, params={}, lr_annealing=False, lr_multiplier=1):\n",
    "    \n",
    "    print('------------')\n",
    "    print('Params: ', params)\n",
    "    \n",
    "    params['input_shape'] = (X_train.shape[1],)\n",
    "    \n",
    "    model = create_model(**params)\n",
    "\n",
    "    # Find the class weights so predictions match these weights\n",
    "    class_weights = class_weight.compute_class_weight('balanced', np.unique(y_train), y_train)\n",
    "\n",
    "    # Train the model\n",
    "    history = pd.DataFrame(columns=['epoch', 'lr', 'acc', 'loss', 'val_acc', 'val_loss'])\n",
    "    \n",
    "    for e in range(epochs):\n",
    "        \n",
    "        history_tmp = model.fit(X_train, y_train, epochs=1, batch_size=batch_size, verbose=0,\n",
    "                                class_weight=class_weights, validation_data=(X_val, y_val))\n",
    "        \n",
    "        history.loc[e, 'epoch'] = e + 1\n",
    "        history.loc[e, 'lr'] = round(K.get_value(model.optimizer.lr),4)\n",
    "        history.loc[e, 'acc'] = history_tmp.history['acc'][0]\n",
    "        history.loc[e, 'loss'] = history_tmp.history['loss'][0]\n",
    "        history.loc[e, 'val_acc'] = history_tmp.history['val_acc'][0]\n",
    "        history.loc[e, 'val_loss'] = history_tmp.history['val_loss'][0]\n",
    "        \n",
    "        # Raise the learning rate\n",
    "        if lr_annealing:\n",
    "            new_lr = lr_multiplier * K.get_value(model.optimizer.lr)\n",
    "            K.set_value(model.optimizer.lr, new_lr)\n",
    "        \n",
    "    # Visualise accuracy and loss by epoch\n",
    "    if lr_annealing:\n",
    "        plot_accuracy_by_epoch(history, x_axis='lr')\n",
    "    else:\n",
    "        plot_accuracy_by_epoch(history)\n",
    "    \n",
    "    train_predictions = model.predict(X_train)\n",
    "    valid_predictions = model.predict(X_val)\n",
    "\n",
    "    train_score = roc_auc_score(y_train, train_predictions)\n",
    "    valid_score = roc_auc_score(y_val, valid_predictions)\n",
    "\n",
    "    print('--> Training score: ', train_score)\n",
    "    print('--> Valid score: ', valid_score)\n",
    "        \n",
    "    return train_score, valid_score, model"
   ]
  },
  {
   "cell_type": "code",
   "execution_count": 12,
   "metadata": {},
   "outputs": [],
   "source": [
    "def plot_neural_net_hyperparam(results_df, hyperparam, train_score, valid_score):\n",
    "\n",
    "    x_labels = results_df[hyperparam].tolist()\n",
    "    x = np.arange(len(x_labels))\n",
    "    train = results_df[train_score].tolist()\n",
    "    valid = results_df[valid_score].tolist()\n",
    "\n",
    "    fig, ax = plt.subplots(figsize=(10, 7))\n",
    "    ax.plot(x, train, label='train')\n",
    "    ax.plot(x, valid, label='valid')\n",
    "    ax.xaxis.set_ticks(x)\n",
    "    ax.xaxis.set_ticklabels(x_labels)\n",
    "    plt.legend()\n",
    "    plt.xlabel(hyperparam)\n",
    "    plt.ylabel('Score')\n",
    "    plt.title('Score vs {}'.format(hyperparam))\n",
    "    plt.show()"
   ]
  },
  {
   "cell_type": "markdown",
   "metadata": {},
   "source": [
    "## Learning Rate"
   ]
  },
  {
   "cell_type": "code",
   "execution_count": 13,
   "metadata": {},
   "outputs": [
    {
     "name": "stdout",
     "output_type": "stream",
     "text": [
      "------------\n",
      "Params:  {'learn_rate': 0.0001, 'momentum': 0}\n"
     ]
    },
    {
     "data": {
      "image/png": "[encoded data removed]",
      "text/plain": [
       "<Figure size 720x504 with 1 Axes>"
      ]
     },
     "metadata": {
      "needs_background": "light"
     },
     "output_type": "display_data"
    },
    {
     "data": {
      "image/png": "[encoded data removed]",
      "text/plain": [
       "<Figure size 720x504 with 1 Axes>"
      ]
     },
     "metadata": {
      "needs_background": "light"
     },
     "output_type": "display_data"
    },
    {
     "name": "stdout",
     "output_type": "stream",
     "text": [
      "--> Training score:  0.6585768007975898\n",
      "--> Valid score:  0.649828959736721\n"
     ]
    }
   ],
   "source": [
    "train_score, valid_score, m = train_model(X_train, y_train, X_val, y_val, params={'learn_rate':0.0001, 'momentum':0},\n",
    "                                          epochs=120, batch_size=batch_size, lr_annealing = True, lr_multiplier=1.1)"
   ]
  },
  {
   "cell_type": "markdown",
   "metadata": {},
   "source": [
    "## Hidden Layers"
   ]
  },
  {
   "cell_type": "code",
   "execution_count": null,
   "metadata": {},
   "outputs": [],
   "source": [
    "optimising_hyperparameter = 'hidden_layers'\n",
    "values = [0, 1, 2]\n",
    "results_df = pd.DataFrame(columns=[optimising_hyperparameter, 'train_score', 'valid_score'])\n",
    "\n",
    "for ix,v in enumerate(values):\n",
    "    \n",
    "    params = {}\n",
    "    params[optimising_hyperparameter] = v\n",
    "    params['learn_rate'] = 0.05\n",
    "    \n",
    "    train_score, valid_score, m = train_model(X_train, y_train, X_val, y_val,\n",
    "                                               params=params, epochs=epochs, batch_size=batch_size)\n",
    "    \n",
    "    results_df.loc[ix, optimising_hyperparameter] = v\n",
    "    results_df.loc[ix, 'train_score'] = train_score\n",
    "    results_df.loc[ix, 'valid_score'] = valid_score\n",
    "\n",
    "print(\"===== Overall =====\")\n",
    "print(results_df)\n",
    "plot_neural_net_hyperparam(results_df, optimising_hyperparameter, 'train_score', 'valid_score')"
   ]
  },
  {
   "cell_type": "markdown",
   "metadata": {},
   "source": [
    "## Dropout"
   ]
  },
  {
   "cell_type": "code",
   "execution_count": null,
   "metadata": {},
   "outputs": [],
   "source": [
    "optimising_hyperparameter = 'dropout_rate'\n",
    "values = [0.1, 0.2, 0.3, 0.4, 0.5, 0.6, 0.7, 0.8, 0.9]\n",
    "results_df = pd.DataFrame(columns=[optimising_hyperparameter, 'train_score', 'valid_score'])\n",
    "\n",
    "for ix,v in enumerate(values):\n",
    "    \n",
    "    params = {}\n",
    "    params[optimising_hyperparameter] = v\n",
    "    params['learn_rate'] = 0.05\n",
    "    params['hidden_layers'] = 1\n",
    "    \n",
    "    train_score, valid_score, m = train_model(X_train, y_train, X_val, y_val,\n",
    "                                               params=params, epochs=epochs, batch_size=batch_size)\n",
    "    \n",
    "    results_df.loc[ix, optimising_hyperparameter] = v\n",
    "    results_df.loc[ix, 'train_score'] = train_score\n",
    "    results_df.loc[ix, 'valid_score'] = valid_score\n",
    "\n",
    "print(\"===== Overall =====\")\n",
    "print(results_df)\n",
    "plot_neural_net_hyperparam(results_df, optimising_hyperparameter, 'train_score', 'valid_score')"
   ]
  },
  {
   "cell_type": "markdown",
   "metadata": {},
   "source": [
    "## Weight constraint"
   ]
  },
  {
   "cell_type": "code",
   "execution_count": null,
   "metadata": {},
   "outputs": [],
   "source": [
    "optimising_hyperparameter = 'weight_constraint'\n",
    "values = [0.1, 0.25, 0.5, 1, 1.5, 2, 2.5, 3, 5]\n",
    "results_df = pd.DataFrame(columns=[optimising_hyperparameter, 'train_score', 'valid_score'])\n",
    "\n",
    "for ix,v in enumerate(values):\n",
    "    \n",
    "    params = {}\n",
    "    params[optimising_hyperparameter] = v\n",
    "    params['learn_rate'] = 0.05\n",
    "    params['hidden_layers'] = 1\n",
    "    params['dropout_rate'] = 0.7\n",
    "    \n",
    "    train_score, valid_score, m = train_model(X_train, y_train, X_val, y_val,\n",
    "                                               params=params, epochs=epochs, batch_size=batch_size)\n",
    "        \n",
    "    results_df.loc[ix, optimising_hyperparameter] = v\n",
    "    results_df.loc[ix, 'train_score'] = train_score\n",
    "    results_df.loc[ix, 'valid_score'] = valid_score\n",
    "\n",
    "print(\"===== Overall =====\")\n",
    "print(results_df)\n",
    "plot_neural_net_hyperparam(results_df, optimising_hyperparameter, 'train_score', 'valid_score')"
   ]
  },
  {
   "cell_type": "markdown",
   "metadata": {},
   "source": [
    "## Momentum"
   ]
  },
  {
   "cell_type": "code",
   "execution_count": null,
   "metadata": {},
   "outputs": [],
   "source": [
    "optimising_hyperparameter = 'momentum'\n",
    "values = [0.1, 0.2, 0.3, 0.4, 0.5, 0.6, 0.7, 0.8, 0.9]\n",
    "results_df = pd.DataFrame(columns=[optimising_hyperparameter, 'train_score', 'valid_score'])\n",
    "\n",
    "for ix,v in enumerate(values):\n",
    "    \n",
    "    params = {}\n",
    "    params[optimising_hyperparameter] = v\n",
    "    params['learn_rate'] = 0.05\n",
    "    params['hidden_layers'] = 1\n",
    "    params['dropout_rate'] = 0.7\n",
    "    params['weight_constraint'] = 1\n",
    "    \n",
    "    train_score, valid_score, m = train_model(X_train, y_train, X_val, y_val,\n",
    "                                               params=params, epochs=epochs, batch_size=batch_size)\n",
    "        \n",
    "    results_df.loc[ix, optimising_hyperparameter] = v\n",
    "    results_df.loc[ix, 'train_score'] = train_score\n",
    "    results_df.loc[ix, 'valid_score'] = valid_score\n",
    "\n",
    "print(\"===== Overall =====\")\n",
    "print(results_df)\n",
    "plot_neural_net_hyperparam(results_df, optimising_hyperparameter, 'train_score', 'valid_score')"
   ]
  },
  {
   "cell_type": "markdown",
   "metadata": {},
   "source": [
    "## Final training run"
   ]
  },
  {
   "cell_type": "code",
   "execution_count": null,
   "metadata": {},
   "outputs": [],
   "source": [
    "params = {}\n",
    "params['learn_rate'] = 0.05\n",
    "params['hidden_layers'] = 1\n",
    "params['dropout_rate'] = 0.7\n",
    "params['weight_constraint'] = 1\n",
    "params['momentum'] = 0.3\n",
    "    \n",
    "train_score, valid_score, model = train_model(X_train, y_train, X_val, y_val,\n",
    "                                               params=params, epochs=100, batch_size=batch_size)\n",
    "\n",
    "# Save model as Pickle\n",
    "save_pickle(model, 'neural_network')"
   ]
  }
 ],
 "metadata": {
  "kernelspec": {
   "display_name": "Python [conda env:mimic]",
   "language": "python",
   "name": "conda-env-mimic-py"
  },
  "language_info": {
   "codemirror_mode": {
    "name": "ipython",
    "version": 3
   },
   "file_extension": ".py",
   "mimetype": "text/x-python",
   "name": "python",
   "nbconvert_exporter": "python",
   "pygments_lexer": "ipython3",
   "version": "3.6.6"
  }
 },
 "nbformat": 4,
 "nbformat_minor": 2
}
